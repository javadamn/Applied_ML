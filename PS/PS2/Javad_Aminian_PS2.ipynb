{
 "cells": [
  {
   "cell_type": "markdown",
   "metadata": {},
   "source": [
    "# Problem Set 2"
   ]
  },
  {
   "cell_type": "markdown",
   "metadata": {},
   "source": [
    "## Introduction to the assignment\n",
    "\n",
    "For this assignment, you will be using data from the [Progresa program](http://en.wikipedia.org/wiki/Oportunidades), a government social assistance program in Mexico. This program, as well as the details of its impact, are described in the paper \"[School subsidies for the poor: evaluating the Mexican Progresa poverty program](http://www.sciencedirect.com/science/article/pii/S0304387803001858)\", by Paul Shultz (available on bCourses). Please familiarize yourself with the PROGRESA program before beginning this problem set, so you have a rough sense of where the data come from and how they were generated. If you just proceed into the problem set without understanding Progresa or the data, it will be very difficult!\n",
    "\n",
    "The goal of this problem set is to implement some of the basic econometric techniques that you are learning in class to measure the impact of Progresa on secondary school enrollment rates. The timeline of the program was:\n",
    "\n",
    " * Baseline survey conducted in 1997\n",
    " * Intervention begins in 1998, \"Wave 1\" of surveys conducted in 1998\n",
    " * \"Wave 2\" of surveys conducted in 1999\n",
    " * Evaluation ends in 2000, at which point the control villages were treated. \n",
    " \n",
    "When you are ready, download the progresa_sample.csv data from bCourses. The data are actual data collected to evaluate the impact of the Progresa program.  In this file, each row corresponds to an observation taken for a given child for a given year. There are two years of data (1997 and 1998), and just under 40,000 children who are surveyed in each year. For each child-year observation, the following variables are collected:\n",
    "\n",
    "| Variable name | Description|\n",
    "|------|------|\n",
    "|year\t  |year in which data is collected|\n",
    "|sex\t  |male = 1|\n",
    "|indig\t  |indigenous = 1|\n",
    "|dist_sec |nearest distance to a secondary school|\n",
    "|sc\t      |enrolled in school in year of survey|\n",
    "|grc      |grade enrolled|\n",
    "|fam_n    |family size|\n",
    "|min_dist |\tmin distance to an urban center|\n",
    "|dist_cap |\tmin distance to the capital|\n",
    "|poor     |\tpoor = 1|\n",
    "|progresa |treatment =1|\n",
    "|hohedu\t  |years of schooling of head of household|\n",
    "|hohwag\t  |monthly wages of head of household|\n",
    "|welfare_index|\twelfare index used to classify poor|\n",
    "|hohsex\t|gender of head of household (male=1)|\n",
    "|hohage\t|age of head of household|\n",
    "|age\t|years old|\n",
    "|folnum\t|individual id|\n",
    "|village|\tvillage id|\n",
    "|sc97\t|schooling in 1997|"
   ]
  },
  {
   "cell_type": "markdown",
   "metadata": {},
   "source": [
    "---\n",
    "\n",
    "## Part 1: Descriptive analysis\n",
    "\n",
    "### 1.1\tSummary Statistics\n",
    "\n",
    "Present summary statistics (mean, standard error, and the values at the 5th and 95th percentiles) for all of the demographic variables in the dataset (i.e., everything except year, folnum, village). Present these in a single table alphabetized by variable name. Do NOT simply expect the grader to scroll through your output!\n",
    "\n",
    "*Note:* For this and subsequent problems, you will need to be careful in how you deal with missing (NULL) values. You should not blindly drop rows and columns where any data field is missing.  For instance, in calculating the average `hohwag`, you should average the `hohwag` values from all households that report a value (even if the household does not have a recorded `age` value, for example). "
   ]
  },
  {
   "cell_type": "code",
   "execution_count": 1,
   "metadata": {},
   "outputs": [],
   "source": [
    "import pandas as pd\n",
    "ds = pd.read_csv(\"progresa_sample.csv\")"
   ]
  },
  {
   "cell_type": "code",
   "execution_count": 2,
   "metadata": {},
   "outputs": [
    {
     "name": "stdout",
     "output_type": "stream",
     "text": [
      "non-numeric variables: ['poor', 'progresa']\n",
      "unique vars for poor: Index(['pobre', 'no pobre'], dtype='object', name='poor')\n",
      "unique vars for progresa: Index(['basal', '0'], dtype='object', name='progresa')\n"
     ]
    }
   ],
   "source": [
    "nonNumeric = list(ds.select_dtypes(include='object').columns)\n",
    "print(f\"non-numeric variables: {nonNumeric}\")\n",
    "\n",
    "for var in nonNumeric:\n",
    "    \n",
    "    print((f\"unique vars for {var}: {ds[var].value_counts().keys()}\"))\n",
    "    if var == 'poor':\n",
    "        ds.loc[ds[var]=='pobre', var] = 1\n",
    "        ds.loc[ds[var]=='no pobre', var] = 0  \n",
    "    elif var == 'progresa':\n",
    "        ds.loc[ds[var]=='basal', var] = 1\n",
    "        ds.loc[ds[var]=='0', var] = 0\n",
    "\n",
    "#describe() automatically handles null values when computing stats so need to take further action at this step"
   ]
  },
  {
   "cell_type": "code",
   "execution_count": 3,
   "metadata": {},
   "outputs": [
    {
     "data": {
      "text/html": [
       "<div>\n",
       "<style scoped>\n",
       "    .dataframe tbody tr th:only-of-type {\n",
       "        vertical-align: middle;\n",
       "    }\n",
       "\n",
       "    .dataframe tbody tr th {\n",
       "        vertical-align: top;\n",
       "    }\n",
       "\n",
       "    .dataframe thead th {\n",
       "        text-align: right;\n",
       "    }\n",
       "</style>\n",
       "<table border=\"1\" class=\"dataframe\">\n",
       "  <thead>\n",
       "    <tr style=\"text-align: right;\">\n",
       "      <th></th>\n",
       "      <th>mean</th>\n",
       "      <th>std</th>\n",
       "      <th>5%</th>\n",
       "      <th>95%</th>\n",
       "    </tr>\n",
       "  </thead>\n",
       "  <tbody>\n",
       "    <tr>\n",
       "      <th>age</th>\n",
       "      <td>11.366460</td>\n",
       "      <td>3.167744</td>\n",
       "      <td>7.000000</td>\n",
       "      <td>16.000000</td>\n",
       "    </tr>\n",
       "    <tr>\n",
       "      <th>dist_cap</th>\n",
       "      <td>147.674452</td>\n",
       "      <td>76.063134</td>\n",
       "      <td>43.885501</td>\n",
       "      <td>289.015701</td>\n",
       "    </tr>\n",
       "    <tr>\n",
       "      <th>dist_sec</th>\n",
       "      <td>2.418910</td>\n",
       "      <td>2.234109</td>\n",
       "      <td>0.000000</td>\n",
       "      <td>5.875000</td>\n",
       "    </tr>\n",
       "    <tr>\n",
       "      <th>fam_n</th>\n",
       "      <td>7.215715</td>\n",
       "      <td>2.352900</td>\n",
       "      <td>4.000000</td>\n",
       "      <td>11.000000</td>\n",
       "    </tr>\n",
       "    <tr>\n",
       "      <th>grc</th>\n",
       "      <td>3.963537</td>\n",
       "      <td>2.499063</td>\n",
       "      <td>0.000000</td>\n",
       "      <td>8.000000</td>\n",
       "    </tr>\n",
       "    <tr>\n",
       "      <th>grc97</th>\n",
       "      <td>3.705372</td>\n",
       "      <td>2.572387</td>\n",
       "      <td>0.000000</td>\n",
       "      <td>8.000000</td>\n",
       "    </tr>\n",
       "    <tr>\n",
       "      <th>hohage</th>\n",
       "      <td>44.436717</td>\n",
       "      <td>11.620372</td>\n",
       "      <td>29.000000</td>\n",
       "      <td>66.000000</td>\n",
       "    </tr>\n",
       "    <tr>\n",
       "      <th>hohedu</th>\n",
       "      <td>2.768104</td>\n",
       "      <td>2.656106</td>\n",
       "      <td>0.000000</td>\n",
       "      <td>7.000000</td>\n",
       "    </tr>\n",
       "    <tr>\n",
       "      <th>hohsex</th>\n",
       "      <td>0.925185</td>\n",
       "      <td>0.263095</td>\n",
       "      <td>0.000000</td>\n",
       "      <td>1.000000</td>\n",
       "    </tr>\n",
       "    <tr>\n",
       "      <th>hohwag</th>\n",
       "      <td>586.985312</td>\n",
       "      <td>788.133664</td>\n",
       "      <td>0.000000</td>\n",
       "      <td>1440.000000</td>\n",
       "    </tr>\n",
       "    <tr>\n",
       "      <th>indig</th>\n",
       "      <td>0.298324</td>\n",
       "      <td>0.457525</td>\n",
       "      <td>0.000000</td>\n",
       "      <td>1.000000</td>\n",
       "    </tr>\n",
       "    <tr>\n",
       "      <th>min_dist</th>\n",
       "      <td>103.447520</td>\n",
       "      <td>42.089441</td>\n",
       "      <td>31.974945</td>\n",
       "      <td>162.355172</td>\n",
       "    </tr>\n",
       "    <tr>\n",
       "      <th>sc</th>\n",
       "      <td>0.819818</td>\n",
       "      <td>0.384342</td>\n",
       "      <td>0.000000</td>\n",
       "      <td>1.000000</td>\n",
       "    </tr>\n",
       "    <tr>\n",
       "      <th>sc97</th>\n",
       "      <td>0.813922</td>\n",
       "      <td>0.389172</td>\n",
       "      <td>0.000000</td>\n",
       "      <td>1.000000</td>\n",
       "    </tr>\n",
       "    <tr>\n",
       "      <th>sex</th>\n",
       "      <td>0.512211</td>\n",
       "      <td>0.499854</td>\n",
       "      <td>0.000000</td>\n",
       "      <td>1.000000</td>\n",
       "    </tr>\n",
       "    <tr>\n",
       "      <th>welfare_index</th>\n",
       "      <td>690.346564</td>\n",
       "      <td>139.491130</td>\n",
       "      <td>477.000000</td>\n",
       "      <td>937.658941</td>\n",
       "    </tr>\n",
       "  </tbody>\n",
       "</table>\n",
       "</div>"
      ],
      "text/plain": [
       "                     mean         std          5%          95%\n",
       "age             11.366460    3.167744    7.000000    16.000000\n",
       "dist_cap       147.674452   76.063134   43.885501   289.015701\n",
       "dist_sec         2.418910    2.234109    0.000000     5.875000\n",
       "fam_n            7.215715    2.352900    4.000000    11.000000\n",
       "grc              3.963537    2.499063    0.000000     8.000000\n",
       "grc97            3.705372    2.572387    0.000000     8.000000\n",
       "hohage          44.436717   11.620372   29.000000    66.000000\n",
       "hohedu           2.768104    2.656106    0.000000     7.000000\n",
       "hohsex           0.925185    0.263095    0.000000     1.000000\n",
       "hohwag         586.985312  788.133664    0.000000  1440.000000\n",
       "indig            0.298324    0.457525    0.000000     1.000000\n",
       "min_dist       103.447520   42.089441   31.974945   162.355172\n",
       "sc               0.819818    0.384342    0.000000     1.000000\n",
       "sc97             0.813922    0.389172    0.000000     1.000000\n",
       "sex              0.512211    0.499854    0.000000     1.000000\n",
       "welfare_index  690.346564  139.491130  477.000000   937.658941"
      ]
     },
     "execution_count": 3,
     "metadata": {},
     "output_type": "execute_result"
    }
   ],
   "source": [
    "#print summary\n",
    "(ds.describe(percentiles=[0.05, 0.95]).T)[['mean', 'std', '5%', '95%']].drop(['year', 'folnum', 'village']).sort_index()"
   ]
  },
  {
   "cell_type": "markdown",
   "metadata": {},
   "source": [
    "### 1.2 Differences at baseline?\n",
    "\n",
    "Are the baseline (1997) demographic characteristics **for the poor**  different in treatment and control villages?  Present your results in a single table with the following columns and 14 (or so) rows (alphabetized by variable name):\n",
    "\n",
    "\n",
    "| Variable name | Average value (Treatment villages) | Average value (Control villages) | Difference (Treat - Control) | p-value |\n",
    "|------|------|------|------|------|\n",
    "|Male|?|?|?|?|\n",
    "\n",
    " *Hint:* Use a T-Test to determine whether there is a statistically significant difference in the average values of each of the variables in the dataset. Focus only on the data from 1997 from poor households (i.e., poor=='pobre').\n"
   ]
  },
  {
   "cell_type": "code",
   "execution_count": 4,
   "metadata": {},
   "outputs": [
    {
     "data": {
      "text/html": [
       "<div>\n",
       "<style scoped>\n",
       "    .dataframe tbody tr th:only-of-type {\n",
       "        vertical-align: middle;\n",
       "    }\n",
       "\n",
       "    .dataframe tbody tr th {\n",
       "        vertical-align: top;\n",
       "    }\n",
       "\n",
       "    .dataframe thead th {\n",
       "        text-align: right;\n",
       "    }\n",
       "</style>\n",
       "<table border=\"1\" class=\"dataframe\">\n",
       "  <thead>\n",
       "    <tr style=\"text-align: right;\">\n",
       "      <th></th>\n",
       "      <th>Variable name</th>\n",
       "      <th>Average value (Treatment villages)</th>\n",
       "      <th>Average value (Control villages)</th>\n",
       "      <th>Difference (Treat - Control)</th>\n",
       "      <th>p-value</th>\n",
       "    </tr>\n",
       "  </thead>\n",
       "  <tbody>\n",
       "    <tr>\n",
       "      <th>0</th>\n",
       "      <td>age</td>\n",
       "      <td>10.716991</td>\n",
       "      <td>10.742023</td>\n",
       "      <td>-0.025032</td>\n",
       "      <td>0.478</td>\n",
       "    </tr>\n",
       "    <tr>\n",
       "      <th>1</th>\n",
       "      <td>dist_cap</td>\n",
       "      <td>150.829074</td>\n",
       "      <td>153.769730</td>\n",
       "      <td>-2.940656</td>\n",
       "      <td>0.001</td>\n",
       "    </tr>\n",
       "    <tr>\n",
       "      <th>2</th>\n",
       "      <td>dist_sec</td>\n",
       "      <td>2.453122</td>\n",
       "      <td>2.507662</td>\n",
       "      <td>-0.054540</td>\n",
       "      <td>0.043</td>\n",
       "    </tr>\n",
       "    <tr>\n",
       "      <th>3</th>\n",
       "      <td>fam_n</td>\n",
       "      <td>7.281327</td>\n",
       "      <td>7.302469</td>\n",
       "      <td>-0.021142</td>\n",
       "      <td>0.429</td>\n",
       "    </tr>\n",
       "    <tr>\n",
       "      <th>4</th>\n",
       "      <td>grc</td>\n",
       "      <td>3.531599</td>\n",
       "      <td>3.543050</td>\n",
       "      <td>-0.011450</td>\n",
       "      <td>0.690</td>\n",
       "    </tr>\n",
       "    <tr>\n",
       "      <th>5</th>\n",
       "      <td>grc97</td>\n",
       "      <td>3.531599</td>\n",
       "      <td>3.543050</td>\n",
       "      <td>-0.011450</td>\n",
       "      <td>0.690</td>\n",
       "    </tr>\n",
       "    <tr>\n",
       "      <th>6</th>\n",
       "      <td>hohage</td>\n",
       "      <td>43.648828</td>\n",
       "      <td>44.276918</td>\n",
       "      <td>-0.628090</td>\n",
       "      <td>0.000</td>\n",
       "    </tr>\n",
       "    <tr>\n",
       "      <th>7</th>\n",
       "      <td>hohedu</td>\n",
       "      <td>2.663139</td>\n",
       "      <td>2.590348</td>\n",
       "      <td>0.072791</td>\n",
       "      <td>0.010</td>\n",
       "    </tr>\n",
       "    <tr>\n",
       "      <th>8</th>\n",
       "      <td>hohsex</td>\n",
       "      <td>0.924656</td>\n",
       "      <td>0.922947</td>\n",
       "      <td>0.001709</td>\n",
       "      <td>0.572</td>\n",
       "    </tr>\n",
       "    <tr>\n",
       "      <th>9</th>\n",
       "      <td>hohwag</td>\n",
       "      <td>544.339544</td>\n",
       "      <td>573.163558</td>\n",
       "      <td>-28.824015</td>\n",
       "      <td>0.000</td>\n",
       "    </tr>\n",
       "    <tr>\n",
       "      <th>10</th>\n",
       "      <td>indig</td>\n",
       "      <td>0.325986</td>\n",
       "      <td>0.332207</td>\n",
       "      <td>-0.006222</td>\n",
       "      <td>0.246</td>\n",
       "    </tr>\n",
       "    <tr>\n",
       "      <th>11</th>\n",
       "      <td>min_dist</td>\n",
       "      <td>107.152915</td>\n",
       "      <td>103.237854</td>\n",
       "      <td>3.915060</td>\n",
       "      <td>0.000</td>\n",
       "    </tr>\n",
       "    <tr>\n",
       "      <th>12</th>\n",
       "      <td>sc</td>\n",
       "      <td>0.822697</td>\n",
       "      <td>0.815186</td>\n",
       "      <td>0.007511</td>\n",
       "      <td>0.096</td>\n",
       "    </tr>\n",
       "    <tr>\n",
       "      <th>13</th>\n",
       "      <td>sc97</td>\n",
       "      <td>0.822697</td>\n",
       "      <td>0.815186</td>\n",
       "      <td>0.007511</td>\n",
       "      <td>0.096</td>\n",
       "    </tr>\n",
       "    <tr>\n",
       "      <th>14</th>\n",
       "      <td>sex</td>\n",
       "      <td>0.519317</td>\n",
       "      <td>0.505052</td>\n",
       "      <td>0.014265</td>\n",
       "      <td>0.012</td>\n",
       "    </tr>\n",
       "    <tr>\n",
       "      <th>15</th>\n",
       "      <td>welfare_index</td>\n",
       "      <td>655.428377</td>\n",
       "      <td>659.579100</td>\n",
       "      <td>-4.150723</td>\n",
       "      <td>0.002</td>\n",
       "    </tr>\n",
       "  </tbody>\n",
       "</table>\n",
       "</div>"
      ],
      "text/plain": [
       "    Variable name  Average value (Treatment villages)  \\\n",
       "0             age                           10.716991   \n",
       "1        dist_cap                          150.829074   \n",
       "2        dist_sec                            2.453122   \n",
       "3           fam_n                            7.281327   \n",
       "4             grc                            3.531599   \n",
       "5           grc97                            3.531599   \n",
       "6          hohage                           43.648828   \n",
       "7          hohedu                            2.663139   \n",
       "8          hohsex                            0.924656   \n",
       "9          hohwag                          544.339544   \n",
       "10          indig                            0.325986   \n",
       "11       min_dist                          107.152915   \n",
       "12             sc                            0.822697   \n",
       "13           sc97                            0.822697   \n",
       "14            sex                            0.519317   \n",
       "15  welfare_index                          655.428377   \n",
       "\n",
       "    Average value (Control villages)  Difference (Treat - Control)  p-value  \n",
       "0                          10.742023                     -0.025032    0.478  \n",
       "1                         153.769730                     -2.940656    0.001  \n",
       "2                           2.507662                     -0.054540    0.043  \n",
       "3                           7.302469                     -0.021142    0.429  \n",
       "4                           3.543050                     -0.011450    0.690  \n",
       "5                           3.543050                     -0.011450    0.690  \n",
       "6                          44.276918                     -0.628090    0.000  \n",
       "7                           2.590348                      0.072791    0.010  \n",
       "8                           0.922947                      0.001709    0.572  \n",
       "9                         573.163558                    -28.824015    0.000  \n",
       "10                          0.332207                     -0.006222    0.246  \n",
       "11                        103.237854                      3.915060    0.000  \n",
       "12                          0.815186                      0.007511    0.096  \n",
       "13                          0.815186                      0.007511    0.096  \n",
       "14                          0.505052                      0.014265    0.012  \n",
       "15                        659.579100                     -4.150723    0.002  "
      ]
     },
     "execution_count": 4,
     "metadata": {},
     "output_type": "execute_result"
    }
   ],
   "source": [
    "from scipy.stats import ttest_ind\n",
    "\n",
    "ds_base_p_t = ds[(ds['year']==97) & (ds['poor']==1) & (ds['progresa']==1)]\n",
    "ds_base_p_c = ds[(ds['year']==97) & (ds['poor']==1) & (ds['progresa']==0)]\n",
    "\n",
    "\n",
    "varsNames_ex = ['year', 'poor', 'progresa', 'folnum', 'village']\n",
    "\n",
    "res = []\n",
    "for var in sorted(ds.columns): \n",
    "    if var not in varsNames_ex:\n",
    "        mean_t = ds_base_p_t[var].mean(skipna=True)\n",
    "        mean_c = ds_base_p_c[var].mean(skipna=True)\n",
    "        _, pVal = ttest_ind(ds_base_p_t[var].dropna(), ds_base_p_c[var].dropna(), equal_var=False)\n",
    "        pVal = round(pVal, 3)\n",
    "        diff = mean_t - mean_c\n",
    "        res.append([var, mean_t, mean_c, diff, pVal])\n",
    "        \n",
    "pd.DataFrame(res, columns=[\"Variable name\", \"Average value (Treatment villages)\",\n",
    "                                         \"Average value (Control villages)\", \"Difference (Treat - Control)\", \"p-value\"])\n",
    "\n",
    "       "
   ]
  },
  {
   "cell_type": "markdown",
   "metadata": {},
   "source": [
    "### 1.3 Interpretation\n",
    "\n",
    "* A: Are there statistically significant differences between treatment and control villages at baseline? \n",
    "* B: Why does it matter if there are differences at baseline? \n",
    "* C: What does this imply about how to measure the impact of the treatment?"
   ]
  },
  {
   "cell_type": "markdown",
   "metadata": {},
   "source": [
    "#### your interperation here\n",
    "\n",
    "A. Yes, it seems there are some pretty significant differences between treatment and control cases, according to p-values in the table (referring to all variables with a p-value less than 0.05). This tells us that the differences are not just random and are statistically significant.\n",
    "\n",
    "B. Because if treatment and control groups were already different before the treatment, that could mess with how we interpret the results. For example if the treatment group is wealthier or closer to the capital at baseline, those differences could make it look like the treatment is working better (or worse) than it actually is. So we better make sure the initial differences don’t skew our results. \n",
    "\n",
    "C. We see that there are significant baseline differences between the groups, so we need to make sure that the estimation of treatment impact is adjusted. We could have different options like matching the treatment and control cases on their baseline features. Or we can adjust themby adding them as controls in a regression model. This is all to ensure that the treatment affects are measured properly.\n"
   ]
  },
  {
   "cell_type": "markdown",
   "metadata": {},
   "source": [
    "### 1.4 Graphical exploration\n",
    "\n",
    "Visualize the distribution of village enrollment rates among poor households in treated villages, before and after treatment.\n",
    "\n",
    "Specifically, for each treated village:\n",
    "\n",
    "- First, calculate the average rate of enrollment of poor households in 1997.\n",
    "- Then, compute the average rate of enrollment of poor households in 1998.\n",
    "- Create a graph showing the distribution of these average enrollment rates (one histogram for 1997 and one histogram for 1998). On each histogram, draw a vertical line that intersects the x-axis at the average value (across all households). \n",
    "- Ensure that your graph is well formatted / publication quality -- add a title, x-axis labels, a legend, and any other elements as necessary.\n",
    "\n",
    "Then, answer the following questions:\n",
    "- Does there appear to be a difference between the average enrolment rates in 1997 and 1998? Is this difference statistically significant?\n",
    "\n",
    "Now, repeat the process, and generate a second set of graphs comparing the distributions for non-poor households, before and after treatment.\n",
    "\n",
    "- Does there appear to be a difference between the average enrolment rates in 1997 and 1998? Is this difference statistically significant?\n"
   ]
  },
  {
   "cell_type": "code",
   "execution_count": 5,
   "metadata": {},
   "outputs": [
    {
     "data": {
      "image/png": "[encoded data removed]",
      "text/plain": [
       "<Figure size 1000x600 with 2 Axes>"
      ]
     },
     "metadata": {},
     "output_type": "display_data"
    }
   ],
   "source": [
    "import seaborn as sns\n",
    "import matplotlib.pyplot as plt\n",
    "\n",
    "ds_e97 = ds[(ds['poor']==1) & (ds['progresa']==1) & (ds['year']==97)]\n",
    "ds_e98 = ds[(ds['poor']==1) & (ds['progresa']==1) & (ds['year']==98)]\n",
    "vilNames = ds_e97['village'].unique()\n",
    "# print(vilNames)\n",
    "\n",
    "m97_t = []\n",
    "m98_t = []\n",
    "for vil in vilNames:\n",
    "    m97 = ds_e97[ds_e97['village']==vil]['sc'].mean(skipna=True)\n",
    "    m98 = ds_e98[ds_e98['village']==vil]['sc'].mean(skipna=True)\n",
    "    m97_t.append([vil, m97])\n",
    "    m98_t.append([vil, m98])\n",
    "\n",
    "\n",
    "\n",
    "pdm97 = pd.DataFrame(m97_t, columns=[\"Village name\", \"Average enrollment rate\"])\n",
    "pdm98 = pd.DataFrame(m98_t, columns=[\"Village name\", \"Average enrollment rate\"])\n",
    "\n",
    "fig = plt.figure(figsize=(10, 6))\n",
    "\n",
    "plt1 = plt.subplot(1,2,1)\n",
    "sns.histplot(pdm97['Average enrollment rate'], bins=15, kde=True, color='r')\n",
    "plt1.set_title('Average rate of enrollment of poor households in 1997', fontsize=10)\n",
    "plt1.axvline(ds_e97['sc'].mean(skipna=True), c='y', ls='--')\n",
    "plt1.set_xlabel('') \n",
    "plt1.set_ylabel('') \n",
    "plt1.set_ylim(0, 65)\n",
    "\n",
    "\n",
    "plt2 = plt.subplot(1,2,2)\n",
    "sns.histplot(pdm98['Average enrollment rate'], bins=15, kde=True, color='c')\n",
    "plt2.set_title('Average rate of enrollment of poor households in 1998', fontsize=10)\n",
    "plt2.axvline(ds_e98['sc'].mean(skipna=True), c='y', ls='--')\n",
    "plt2.set_xlabel('') \n",
    "plt2.set_ylabel('') \n",
    "plt2.set_ylim(0, 65)\n",
    "\n",
    "fig.text(0.5, 0.04, 'Average Enrollment Rate', ha='center', va='center', fontsize=12) \n",
    "fig.text(0.08, 0.5, 'Number of villages', ha='center', va='center', rotation='vertical', fontsize=12) \n",
    "\n",
    "\n",
    "plt.subplots_adjust() "
   ]
  },
  {
   "cell_type": "code",
   "execution_count": 6,
   "metadata": {},
   "outputs": [
    {
     "name": "stdout",
     "output_type": "stream",
     "text": [
      "Average rate of enrollment of poor households in 1997: 0.8226968874033842\n",
      "Average rate of enrollment of poor households in 1998: 0.8464791213954308\n",
      "TtestResult(statistic=np.float64(-2.0157134865155815), pvalue=np.float64(0.044249343422594324), df=np.float64(637.0225428028766))\n"
     ]
    }
   ],
   "source": [
    "print(f\"Average rate of enrollment of poor households in 1997: {ds_e97['sc'].mean(skipna=True)}\")\n",
    "print(f\"Average rate of enrollment of poor households in 1998: {ds_e98['sc'].mean(skipna=True)}\")\n",
    "x=ttest_ind(pdm97[\"Average enrollment rate\"], pdm98[\"Average enrollment rate\"], equal_var=False)\n",
    "print(x)"
   ]
  },
  {
   "cell_type": "markdown",
   "metadata": {},
   "source": [
    "We can see a 2.015 difference between the two groups. Given that the p-value between cases of 97 and 98 is less than 0.05, we can reject the null hypothesis and say that there is a statistically significant difference there. "
   ]
  },
  {
   "cell_type": "markdown",
   "metadata": {},
   "source": [
    "## Part 2: Measuring Impact\n",
    "\n",
    "Our goal is to estimate the causal impact of the PROGRESA program on the social and economic outcomes of individuals in Mexico. We will focus on the impact of the program on school enrollment rates among the poor (those with poor=='pobre'), since only the poor were eligible to receive PROGRESA assistance, and since a primary objective of the program was to increase school enrollment.\n",
    "\n",
    "### 2.1 Simple differences: T-test\n",
    "\n",
    "Begin by estimating the impact of Progresa using \"simple differences.\" Restricting yourself to data from 1998 (after treatment), calculate the average enrollment rate among **poor** households in the Treatment villages and the average enrollment rate among **poor** households in the control villages. Use a t-test to determine if this difference is statistically significant. What do you conclude?"
   ]
  },
  {
   "cell_type": "code",
   "execution_count": 7,
   "metadata": {},
   "outputs": [
    {
     "name": "stdout",
     "output_type": "stream",
     "text": [
      "Average rate for treatment: 0.8464791213954308\n",
      "Average rate for control  : 0.807636956730308\n",
      "Difference: 0.0388421646651228\n"
     ]
    },
    {
     "data": {
      "text/plain": [
       "TtestResult(statistic=np.float64(2.5286761113653253), pvalue=np.float64(0.011846703733412126), df=np.float64(386.301636050644))"
      ]
     },
     "execution_count": 7,
     "metadata": {},
     "output_type": "execute_result"
    }
   ],
   "source": [
    "ds_t = ds[(ds['poor']==1) & (ds['progresa']==1) & (ds['year']==98)]\n",
    "ds_c = ds[(ds['poor']==1) & (ds['progresa']==0) & (ds['year']==98)]\n",
    "\n",
    "print(f\"Average rate for treatment: {ds_t['sc'].mean(skipna=True)}\")\n",
    "print(f\"Average rate for control  : {ds_c['sc'].mean(skipna=True)}\")\n",
    "print(f\"Difference: {ds_t['sc'].mean(skipna=True) - ds_c['sc'].mean(skipna=True)}\")\n",
    "\n",
    "vilNames_t = ds_t['village'].unique()\n",
    "vilNames_c = ds_c['village'].unique()\n",
    "ds_tM_T = []\n",
    "ds_cM_T = []\n",
    "for vil in vilNames_t:\n",
    "    ds_tM = ds_t[ds_t['village']==vil]['sc'].mean(skipna=True)\n",
    "    ds_tM_T.append([vil, ds_tM])\n",
    "\n",
    "for vil in vilNames_c:\n",
    "    ds_cM = ds_c[ds_c['village']==vil]['sc'].mean(skipna=True)\n",
    "    ds_cM_T.append([vil, ds_cM])\n",
    "\n",
    "pd_t = pd.DataFrame(ds_tM_T, columns=[\"Village name\", \"Average enrollment rate\"])\n",
    "pd_c = pd.DataFrame(ds_cM_T, columns=[\"Village name\", \"Average enrollment rate\"])\n",
    "\n",
    "ttest_ind (pd_t[\"Average enrollment rate\"], pd_c[\"Average enrollment rate\"], equal_var=False)"
   ]
  },
  {
   "cell_type": "markdown",
   "metadata": {},
   "source": [
    "Again the p-value is less than 0.05, so we can reject the null hypothesis and say that there is a statistically significant difference between the control and treatment cases. Poor people with treatment had a higher average rate; meaning the program had a positive effect on enrollment rates among poor households in treatment villages."
   ]
  },
  {
   "cell_type": "markdown",
   "metadata": {},
   "source": [
    "### 2.2 Simple differences: Regression\n",
    "\n",
    "Estimate the effects of Progresa on enrollment using a regression model, by regressing the 1998 enrollment rates **of the poor** on treatment assignment. For now, do not include any other variables in your regression. Discuss the following:\n",
    "\n",
    "* Based on this model, how much did Progresa increase or decrease the likelihood of a child enrolling? Make sure you express you answer in a sentence that a person with no technical background could understand, using appropriate units.\n",
    "* How does your regression estimate compare to your t-test estimate from part 2.1?\n",
    "* Based on this regression model, can we reject the null hypothesis that the treatment effects are zero? \n",
    "* What is the counterfactual assumption underlying this regression?"
   ]
  },
  {
   "cell_type": "code",
   "execution_count": 8,
   "metadata": {},
   "outputs": [
    {
     "name": "stdout",
     "output_type": "stream",
     "text": [
      "                            OLS Regression Results                            \n",
      "==============================================================================\n",
      "Dep. Variable:                     sc   R-squared:                       0.003\n",
      "Model:                            OLS   Adj. R-squared:                  0.003\n",
      "Method:                 Least Squares   F-statistic:                     69.87\n",
      "Date:                Tue, 11 Feb 2025   Prob (F-statistic):           6.64e-17\n",
      "Time:                        04:40:31   Log-Likelihood:                -11926.\n",
      "No. Observations:               27450   AIC:                         2.386e+04\n",
      "Df Residuals:                   27448   BIC:                         2.387e+04\n",
      "Df Model:                           1                                         \n",
      "Covariance Type:            nonrobust                                         \n",
      "=================================================================================\n",
      "                    coef    std err          t      P>|t|      [0.025      0.975]\n",
      "---------------------------------------------------------------------------------\n",
      "Intercept         0.8076      0.004    220.676      0.000       0.800       0.815\n",
      "progresa[T.1]     0.0388      0.005      8.359      0.000       0.030       0.048\n",
      "==============================================================================\n",
      "Omnibus:                     7638.939   Durbin-Watson:                   1.734\n",
      "Prob(Omnibus):                  0.000   Jarque-Bera (JB):            15767.534\n",
      "Skew:                          -1.767   Prob(JB):                         0.00\n",
      "Kurtosis:                       4.140   Cond. No.                         3.01\n",
      "==============================================================================\n",
      "\n",
      "Notes:\n",
      "[1] Standard Errors assume that the covariance matrix of the errors is correctly specified.\n"
     ]
    }
   ],
   "source": [
    "import statsmodels.formula.api as smf\n",
    "\n",
    "ds_e = ds[(ds['poor']==1) & (ds['year']==98)]\n",
    "singleVarModel = smf.ols(\"sc ~ progresa\", data=ds_e).fit()\n",
    "print(singleVarModel.summary())"
   ]
  },
  {
   "cell_type": "markdown",
   "metadata": {},
   "source": [
    "* We see that the intercept is 0.8076 and the progresa coefficient is 0.0388. so it tells us that in 998, progresa increased the likelihood of a child enrolling in school by 0.0388. All else being equal, children in villages that received treatment were 3.88% more likely to enroll in school compared to those in control villages.\n",
    "* Difference in part 2.1 is 0.0388, so we see that they're both the same.\n",
    "* YES. p-value is less than 0.05 (0.00), based on the regression model. So we can reject the null hypothesis that the treatment effect is zero.\n",
    "* \"The only difference between the treatment and control groups is the treatment itself\" OR \"In the absence of progresa program, children in treatment villages would have had the same enrollment rate as those in control villages\""
   ]
  },
  {
   "cell_type": "markdown",
   "metadata": {},
   "source": [
    "### 2.3 Multiple Regression\n",
    "\n",
    "Re-run the above regression, but this time include a set of control variables. Include, for instance, age, distance to a secondary school, gender, education of household head, welfare index, indigenous, etc.\n",
    "\n",
    "* How do the controls affect the point estimate of treatment effect?\n",
    "* How do the controls affect the standard error on the treatment effect? \n",
    "* How do you interpret the differences (or similarities) between your estimates of 2.2 and 2.3?\n",
    "* Interpet the coefficient associated with the `dist_sec` variable. Is this evidence that the household's distance from a secondary school has a *causal* impact on educational attainment?"
   ]
  },
  {
   "cell_type": "code",
   "execution_count": 9,
   "metadata": {},
   "outputs": [
    {
     "name": "stdout",
     "output_type": "stream",
     "text": [
      "                            OLS Regression Results                            \n",
      "==============================================================================\n",
      "Dep. Variable:                     sc   R-squared:                       0.272\n",
      "Model:                            OLS   Adj. R-squared:                  0.272\n",
      "Method:                 Least Squares   F-statistic:                     1020.\n",
      "Date:                Tue, 11 Feb 2025   Prob (F-statistic):               0.00\n",
      "Time:                        04:40:36   Log-Likelihood:                -7543.3\n",
      "No. Observations:               27267   AIC:                         1.511e+04\n",
      "Df Residuals:                   27256   BIC:                         1.520e+04\n",
      "Df Model:                          10                                         \n",
      "Covariance Type:            nonrobust                                         \n",
      "=================================================================================\n",
      "                    coef    std err          t      P>|t|      [0.025      0.975]\n",
      "---------------------------------------------------------------------------------\n",
      "Intercept         1.4488      0.015     97.582      0.000       1.420       1.478\n",
      "progresa[T.1]     0.0337      0.004      8.411      0.000       0.026       0.042\n",
      "age              -0.0657      0.001    -95.643      0.000      -0.067      -0.064\n",
      "dist_cap          0.0002   3.69e-05      5.503      0.000       0.000       0.000\n",
      "dist_sec         -0.0106      0.001    -12.019      0.000      -0.012      -0.009\n",
      "hohedu            0.0079      0.001     10.020      0.000       0.006       0.009\n",
      "hohwag        -6.141e-07   2.79e-06     -0.220      0.826   -6.09e-06    4.86e-06\n",
      "indig             0.0188      0.005      3.979      0.000       0.010       0.028\n",
      "min_dist          0.0004   6.34e-05      6.303      0.000       0.000       0.001\n",
      "sex               0.0304      0.004      7.857      0.000       0.023       0.038\n",
      "welfare_index  1.978e-05   1.72e-05      1.149      0.250    -1.4e-05    5.35e-05\n",
      "==============================================================================\n",
      "Omnibus:                     2940.604   Durbin-Watson:                   1.728\n",
      "Prob(Omnibus):                  0.000   Jarque-Bera (JB):             3992.519\n",
      "Skew:                          -0.930   Prob(JB):                         0.00\n",
      "Kurtosis:                       3.236   Cond. No.                     7.94e+03\n",
      "==============================================================================\n",
      "\n",
      "Notes:\n",
      "[1] Standard Errors assume that the covariance matrix of the errors is correctly specified.\n",
      "[2] The condition number is large, 7.94e+03. This might indicate that there are\n",
      "strong multicollinearity or other numerical problems.\n"
     ]
    }
   ],
   "source": [
    "multiVarModel = smf.ols(\"sc ~ age + dist_cap + dist_sec + hohedu + hohwag + indig + min_dist + progresa + sex + welfare_index\", data=ds_e).fit()\n",
    "print(multiVarModel.summary())"
   ]
  },
  {
   "cell_type": "markdown",
   "metadata": {},
   "source": [
    "* Including control variables decreases the estimated coefficient on the treatment effect\n",
    "* There is very little effect on the standard error\n",
    "* Controlling for other observable factors decreased the estimated treatment effect - or put differently, without controlling for other factors, the estimates of the treatment effect in 2.2 were likely *over*-estimates of the true treatment effect. This is likely due to the fact that other factors were correlated with both treatment and outcomes (as we saw in 1.2).\n",
    "* The -0.0106 coefficient associated with dist_sec indicates that with a unit increase in dist_sec the enrollment of poor on average decreases by ~ 0.10%, holding all the other variables constant. This does not indicate a causal effect since dist_sec is the control variable, which isn't randomly assigned and is only added to the regression to account for other systematic differences in the treatment and control groups."
   ]
  },
  {
   "cell_type": "markdown",
   "metadata": {},
   "source": [
    "### 2.4 Multiple Regression Revisited\n",
    "\n",
    "For the same set of control variables that you used in 2.3, carry out the following alternative estimation procedure. \n",
    "\n",
    "* First, regress the 1998 enrollment of the poor on the control variables, **without including the treatment assignment.** \n",
    "* Second, use this model to obtain predicted values of the 1998 enrollment for each child in the sample used to estimate the model in step 1. \n",
    "* Third, compute a new value for each child, which is the difference between the actual 1998 enrollment and the predicted enrollment value from step 2. \n",
    "* Finally, regress the difference from step 3 on treatment assignment.\n",
    "\n",
    "Compare the point estimate and the standard error on treatment assignment that you obtained in step 4 to their analogues in 2.3. Explain the results."
   ]
  },
  {
   "cell_type": "code",
   "execution_count": 10,
   "metadata": {},
   "outputs": [
    {
     "name": "stdout",
     "output_type": "stream",
     "text": [
      "                            OLS Regression Results                            \n",
      "==============================================================================\n",
      "Dep. Variable:                     sc   R-squared:                       0.272\n",
      "Model:                            OLS   Adj. R-squared:                  0.272\n",
      "Method:                 Least Squares   F-statistic:                     1020.\n",
      "Date:                Tue, 11 Feb 2025   Prob (F-statistic):               0.00\n",
      "Time:                        04:40:40   Log-Likelihood:                -7543.3\n",
      "No. Observations:               27267   AIC:                         1.511e+04\n",
      "Df Residuals:                   27256   BIC:                         1.520e+04\n",
      "Df Model:                          10                                         \n",
      "Covariance Type:            nonrobust                                         \n",
      "=================================================================================\n",
      "                    coef    std err          t      P>|t|      [0.025      0.975]\n",
      "---------------------------------------------------------------------------------\n",
      "Intercept         1.4488      0.015     97.582      0.000       1.420       1.478\n",
      "progresa[T.1]     0.0337      0.004      8.411      0.000       0.026       0.042\n",
      "age              -0.0657      0.001    -95.643      0.000      -0.067      -0.064\n",
      "dist_cap          0.0002   3.69e-05      5.503      0.000       0.000       0.000\n",
      "dist_sec         -0.0106      0.001    -12.019      0.000      -0.012      -0.009\n",
      "hohedu            0.0079      0.001     10.020      0.000       0.006       0.009\n",
      "hohwag        -6.141e-07   2.79e-06     -0.220      0.826   -6.09e-06    4.86e-06\n",
      "indig             0.0188      0.005      3.979      0.000       0.010       0.028\n",
      "min_dist          0.0004   6.34e-05      6.303      0.000       0.000       0.001\n",
      "sex               0.0304      0.004      7.857      0.000       0.023       0.038\n",
      "welfare_index  1.978e-05   1.72e-05      1.149      0.250    -1.4e-05    5.35e-05\n",
      "==============================================================================\n",
      "Omnibus:                     2940.604   Durbin-Watson:                   1.728\n",
      "Prob(Omnibus):                  0.000   Jarque-Bera (JB):             3992.519\n",
      "Skew:                          -0.930   Prob(JB):                         0.00\n",
      "Kurtosis:                       3.236   Cond. No.                     7.94e+03\n",
      "==============================================================================\n",
      "\n",
      "Notes:\n",
      "[1] Standard Errors assume that the covariance matrix of the errors is correctly specified.\n",
      "[2] The condition number is large, 7.94e+03. This might indicate that there are\n",
      "strong multicollinearity or other numerical problems.\n"
     ]
    }
   ],
   "source": [
    "ds_98 = ds[(ds['year'] == 98) & (ds['poor'] == 1)].copy()\n",
    "\n",
    "_multiVarModel = smf.ols(\"sc ~ age + dist_cap + dist_sec + hohedu + hohwag + indig + min_dist + progresa + sex + welfare_index\", data=ds_98).fit()\n",
    "print(_multiVarModel.summary())"
   ]
  },
  {
   "cell_type": "code",
   "execution_count": 11,
   "metadata": {},
   "outputs": [
    {
     "name": "stdout",
     "output_type": "stream",
     "text": [
      "                            OLS Regression Results                            \n",
      "==============================================================================\n",
      "Dep. Variable:               res_rate   R-squared:                       0.000\n",
      "Model:                            OLS   Adj. R-squared:                 -0.000\n",
      "Method:                 Least Squares   F-statistic:                     0.000\n",
      "Date:                Tue, 11 Feb 2025   Prob (F-statistic):               1.00\n",
      "Time:                        04:40:40   Log-Likelihood:                -7543.3\n",
      "No. Observations:               27267   AIC:                         1.509e+04\n",
      "Df Residuals:                   27265   BIC:                         1.511e+04\n",
      "Df Model:                           1                                         \n",
      "Covariance Type:            nonrobust                                         \n",
      "=================================================================================\n",
      "                    coef    std err          t      P>|t|      [0.025      0.975]\n",
      "---------------------------------------------------------------------------------\n",
      "Intercept     -1.095e-14      0.003  -3.49e-12      1.000      -0.006       0.006\n",
      "progresa[T.1]  1.151e-17      0.004   2.89e-15      1.000      -0.008       0.008\n",
      "==============================================================================\n",
      "Omnibus:                     2940.604   Durbin-Watson:                   1.728\n",
      "Prob(Omnibus):                  0.000   Jarque-Bera (JB):             3992.519\n",
      "Skew:                          -0.930   Prob(JB):                         0.00\n",
      "Kurtosis:                       3.236   Cond. No.                         3.01\n",
      "==============================================================================\n",
      "\n",
      "Notes:\n",
      "[1] Standard Errors assume that the covariance matrix of the errors is correctly specified.\n"
     ]
    }
   ],
   "source": [
    "ds_98['predicted_rate'] = _multiVarModel.predict(ds_98)\n",
    "ds_98['res_rate'] = ds_98['sc'] - ds_98['predicted_rate']\n",
    "res_multiVarModel = smf.ols(\"res_rate ~ progresa\", data=ds_98).fit()\n",
    "print(res_multiVarModel.summary())"
   ]
  },
  {
   "cell_type": "markdown",
   "metadata": {},
   "source": [
    "The alternative estimation procedure yields very similar results as the multiple regression estimated in 2.3. We can think of multiple regression as providing an estimate of the linear relationssip between treatment assignment and the residual variance of the outcome that is not explained by the controls. "
   ]
  },
  {
   "cell_type": "markdown",
   "metadata": {},
   "source": [
    "### 2.5 Difference-in-Difference, version 1 (tabular)\n",
    "\n",
    "Thus far, we have computed the effects of Progresa by estimating the difference in 1998 enrollment rates across villages. An alternative approach would be to compute the treatment effect using a difference-in-differences framework.\n",
    "\n",
    "Begin by estimating the average treatment effects of the program for poor households using data from 1997 and 1998. Specifically, calculate the difference (between 1997 and 1998) in enrollment rates among poor households in treated villages; then compute the difference (between 1997 and 1998) in enrollment rates among poor households in control villages. \n",
    "\n",
    "Display your results in a 2x2 table where the rows are Control/Treatment and the columns are 1997/1998. \n",
    "\n",
    "* What is your difference-in-difference estimate of the impact, and how does it compare to your earlier (simple difference) results?\n",
    "* What is the counterfactual assumption underlying this estimate? \n"
   ]
  },
  {
   "cell_type": "code",
   "execution_count": 12,
   "metadata": {},
   "outputs": [
    {
     "name": "stdout",
     "output_type": "stream",
     "text": [
      "Difference-in-difference estimate of the impact:0.031331280319323085\n"
     ]
    },
    {
     "data": {
      "text/html": [
       "<div>\n",
       "<style scoped>\n",
       "    .dataframe tbody tr th:only-of-type {\n",
       "        vertical-align: middle;\n",
       "    }\n",
       "\n",
       "    .dataframe tbody tr th {\n",
       "        vertical-align: top;\n",
       "    }\n",
       "\n",
       "    .dataframe thead th {\n",
       "        text-align: right;\n",
       "    }\n",
       "</style>\n",
       "<table border=\"1\" class=\"dataframe\">\n",
       "  <thead>\n",
       "    <tr style=\"text-align: right;\">\n",
       "      <th></th>\n",
       "      <th>1997</th>\n",
       "      <th>1998</th>\n",
       "    </tr>\n",
       "  </thead>\n",
       "  <tbody>\n",
       "    <tr>\n",
       "      <th>Control</th>\n",
       "      <td>0.822697</td>\n",
       "      <td>0.846479</td>\n",
       "    </tr>\n",
       "    <tr>\n",
       "      <th>Treatment</th>\n",
       "      <td>0.815186</td>\n",
       "      <td>0.807637</td>\n",
       "    </tr>\n",
       "  </tbody>\n",
       "</table>\n",
       "</div>"
      ],
      "text/plain": [
       "               1997      1998\n",
       "Control    0.822697  0.846479\n",
       "Treatment  0.815186  0.807637"
      ]
     },
     "execution_count": 12,
     "metadata": {},
     "output_type": "execute_result"
    }
   ],
   "source": [
    "ds_t97 = ds[(ds['poor']==1) & (ds['progresa']==1) & (ds['year']==97)]\n",
    "ds_c97 = ds[(ds['poor']==1) & (ds['progresa']==0) & (ds['year']==97)]\n",
    "\n",
    "ds_t98 = ds[(ds['poor']==1) & (ds['progresa']==1) & (ds['year']==98)]\n",
    "ds_c98 = ds[(ds['poor']==1) & (ds['progresa']==0) & (ds['year']==98)]\n",
    "\n",
    "A = ds_t97['sc'].mean(skipna=True) \n",
    "B = ds_c97['sc'].mean(skipna=True) \n",
    "C = ds_t98['sc'].mean(skipna=True) \n",
    "D = ds_c98['sc'].mean(skipna=True) \n",
    "\n",
    "tab = pd.DataFrame({'1997': [A, B], '1998': [C, D]}, index=['Control', 'Treatment'])\n",
    "print(f\"Difference-in-difference estimate of the impact:{(C-A)-(D-B)}\")\n",
    "tab"
   ]
  },
  {
   "cell_type": "markdown",
   "metadata": {},
   "source": [
    "* The impact estimate is 0.031, a bit smaller than the difference calculated earlier.\n",
    "* In the absence of treatment, the effect on school enrollment rate would have been same on the treatment and control group from 1997 to 1998."
   ]
  },
  {
   "cell_type": "markdown",
   "metadata": {},
   "source": [
    "### 2.6 Difference-in-Difference, version 2 (regression)\n",
    "\n",
    "Now use a regression specification to estimate the average treatment effects of the program in a difference-in-differences, for the poor households. Do this (i) first without including any control variables; and then (ii) do it a second time including at least 5 control variables. \n",
    "\n",
    "* What is your estimate (i) of the impact of Progresa? Be very specific in interpreting your coefficients and standard errors, and make sure to specify exactly what units you are measuring and estimating.\n",
    "* Does your estimate of the impact of Progresa from (i) change when you add control variables as in (ii)? How do you explain these changes, or the lack of changes on the `progresa` coefficient between (i) and (ii)?\n",
    "* How do the estimates from (i) and (ii) compare to the difference-in-difference estimates from 2.4 above? What accounts for these differences, if any exist?\n",
    "* What is the counterfactual assumption underlying regression (ii)? "
   ]
  },
  {
   "cell_type": "code",
   "execution_count": 13,
   "metadata": {},
   "outputs": [
    {
     "name": "stdout",
     "output_type": "stream",
     "text": [
      "                            OLS Regression Results                            \n",
      "==============================================================================\n",
      "Dep. Variable:                     sc   R-squared:                       0.001\n",
      "Model:                            OLS   Adj. R-squared:                  0.001\n",
      "Method:                 Least Squares   F-statistic:                     28.31\n",
      "Date:                Tue, 11 Feb 2025   Prob (F-statistic):           2.76e-18\n",
      "Time:                        04:40:48   Log-Likelihood:                -26242.\n",
      "No. Observations:               58372   AIC:                         5.249e+04\n",
      "Df Residuals:                   58368   BIC:                         5.253e+04\n",
      "Df Model:                           3                                         \n",
      "Covariance Type:            nonrobust                                         \n",
      "=================================================================================================\n",
      "                                    coef    std err          t      P>|t|      [0.025      0.975]\n",
      "-------------------------------------------------------------------------------------------------\n",
      "Intercept                         0.8152      0.003    233.182      0.000       0.808       0.822\n",
      "progresa[T.1]                     0.0075      0.004      1.691      0.091      -0.001       0.016\n",
      "year_98[T.True]                  -0.0075      0.005     -1.480      0.139      -0.018       0.002\n",
      "progresa[T.1]:year_98[T.True]     0.0313      0.006      4.835      0.000       0.019       0.044\n",
      "==============================================================================\n",
      "Omnibus:                    15346.988   Durbin-Watson:                   1.397\n",
      "Prob(Omnibus):                  0.000   Jarque-Bera (JB):            30608.651\n",
      "Skew:                          -1.711   Prob(JB):                         0.00\n",
      "Kurtosis:                       3.937   Cond. No.                         7.67\n",
      "==============================================================================\n",
      "\n",
      "Notes:\n",
      "[1] Standard Errors assume that the covariance matrix of the errors is correctly specified.\n"
     ]
    }
   ],
   "source": [
    "ds_p = ds[ds['poor'] == 1]\n",
    "# print(ds_p.columns)\n",
    "ds_p = pd.get_dummies(ds_p, columns=['year'], prefix='year')\n",
    "# print(ds_p.columns)\n",
    "\n",
    "dIndModel_noCvar = smf.ols(\"sc ~ progresa * (year_98)\", data=ds_p).fit()\n",
    "print(dIndModel_noCvar.summary())\n"
   ]
  },
  {
   "cell_type": "code",
   "execution_count": 14,
   "metadata": {},
   "outputs": [
    {
     "name": "stdout",
     "output_type": "stream",
     "text": [
      "                            OLS Regression Results                            \n",
      "==============================================================================\n",
      "Dep. Variable:                     sc   R-squared:                       0.275\n",
      "Model:                            OLS   Adj. R-squared:                  0.275\n",
      "Method:                 Least Squares   F-statistic:                     2754.\n",
      "Date:                Tue, 11 Feb 2025   Prob (F-statistic):               0.00\n",
      "Time:                        04:40:49   Log-Likelihood:                -16832.\n",
      "No. Observations:               58200   AIC:                         3.368e+04\n",
      "Df Residuals:                   58191   BIC:                         3.376e+04\n",
      "Df Model:                           8                                         \n",
      "Covariance Type:            nonrobust                                         \n",
      "=================================================================================================\n",
      "                                    coef    std err          t      P>|t|      [0.025      0.975]\n",
      "-------------------------------------------------------------------------------------------------\n",
      "Intercept                         1.4915      0.010    152.780      0.000       1.472       1.511\n",
      "progresa[T.1]                     0.0038      0.004      0.999      0.318      -0.004       0.011\n",
      "year_98[T.True]                   0.0279      0.004      6.391      0.000       0.019       0.036\n",
      "progresa[T.1]:year_98[T.True]     0.0309      0.006      5.594      0.000       0.020       0.042\n",
      "age                              -0.0654      0.000   -143.157      0.000      -0.066      -0.064\n",
      "dist_sec                         -0.0102      0.001    -16.502      0.000      -0.011      -0.009\n",
      "hohedu                            0.0076      0.001     14.163      0.000       0.007       0.009\n",
      "welfare_index                  2.382e-05   1.19e-05      2.002      0.045    5.01e-07    4.71e-05\n",
      "sex                               0.0338      0.003     12.598      0.000       0.029       0.039\n",
      "==============================================================================\n",
      "Omnibus:                     5608.624   Durbin-Watson:                   1.476\n",
      "Prob(Omnibus):                  0.000   Jarque-Bera (JB):             7408.785\n",
      "Skew:                          -0.872   Prob(JB):                         0.00\n",
      "Kurtosis:                       3.120   Cond. No.                     4.98e+03\n",
      "==============================================================================\n",
      "\n",
      "Notes:\n",
      "[1] Standard Errors assume that the covariance matrix of the errors is correctly specified.\n",
      "[2] The condition number is large, 4.98e+03. This might indicate that there are\n",
      "strong multicollinearity or other numerical problems.\n"
     ]
    }
   ],
   "source": [
    "dIndModel_withCvar = smf.ols(\"sc ~ progresa * year_98 + age + dist_sec + hohedu + welfare_index + sex\", data=ds_p).fit()\n",
    "print(dIndModel_withCvar.summary())"
   ]
  },
  {
   "cell_type": "markdown",
   "metadata": {},
   "source": [
    "* In model 1 (the one without the control variables), the interaction term (progresa.year) coeff. is 0.0313 with a std err of 0.006, suggesting that progresa increased enrollment rate for poor people in treatment villages compared to control ones. We can refer to it as a baseline difference between the two existing groups before the treatment.\n",
    "* Yes, they have changed but not dramatically. The coefficient for progresa in model i, is 0.0075 with a p-value of 0.091, which means that it's marginally insignificant and the interaction term is 0.0313 with p<0.05. In model ii, progresa coefficient decreases slightly and becomes insignificant (p>0.318), while the DiD interaction term remains statistically significant with a coefficient almost similar to model i. This suggests that even after considering individual features, the effect of progresa on schooling in 1998 remains significant. The slight decrease in progresa coefficient when adding controls could say that factors like age, education, distance to school, etc could explain a part of variations we see here. \n",
    "* In DiD, we got the coefficient of 0.0309 with a std err of 0.006, which is kind of close to what we obtained in 2.4. The difference could be related to different sources including the presence of control variables which in treatment and control groups are not totally the same.\n",
    "* Based on model ii: the difference in the enrollment rate in the two groups, treatment and control, would have been the same from 1997 to 1998"
   ]
  },
  {
   "cell_type": "markdown",
   "metadata": {},
   "source": [
    "### 2.7 Heterogeneous Treatment Effects\n",
    "\n",
    "Thus far, we have been calculating the average treatment effect -- implicitly assuming that the impacts of progresa are homogeneous (i.e similar for everyone in the treatment group).\n",
    "\n",
    "However, treatment effects might vary by demographics, socio-economic status, or other covariates. In this exercise, we'll think a little more carefully about such variation in treatment effects, the aim being to arrive at a more nuanced understanding of who benefits most from progresa. (More formally, we are now thinking of *conditional* average treatment effects -- a concept that you will revisit towards the end of the semester).\n",
    "\n",
    "Repeat your analysis in 2.5 / 2.6, instead focusing on whether the impacts of Progresa on school enrolment differ by gender.\n",
    "\n",
    "1. Begin by estimating the average treatment effects of the program for male children in poor households using data from 1997 and 1998. Specifically, calculate the difference (between 1997 and 1998) in enrollment rates among male children in poor households in treated villages; then compute the difference (between 1997 and 1998) in enrollment rates among male children in poor households in control villages.\n",
    "    - Report your results in a 2 X 2 table where the rows are Control / Treatment, and the columns are 1997 / 1998.\n",
    "    - Report your estimate of the causal impact of progresa on school enrolment for male children.\n",
    "\n",
    "2. Repeat the process for female children in poor households using data from 1997 and 1998.\n",
    "    - Report the results in a 2 X 2 table where the rows are Control / Treatment, and the columns are 1997 / 1998.\n",
    "    - Report your estimate of the causal impact of progresa on school enrolment for male children.\n",
    "\n",
    "3. Do the effects of Progresa differ by gender?\n",
    "    - Begin by examining manually examining the differences in the causal impact of progresa on school enrolment for male and female children (from Steps 1 and 2 above ).  \n",
    "    - Then, extend the double difference regression you ran in 2.6 (without including any control variables) to directly estimate the differential impact. (Hint: the double difference / diff-in-diff regression you have seen in class and lab sessions allow you to compare two groups (treated and control) across two time periods (pre and post). Now, within this setup, you have an additional comparison to make – between male and female children. What terms do you need to add to the regression in 2.6 in order to allow for this third axis of comparison?)\n",
    "    - Report your findings – do the effects of Progresa differ by gender? \n",
    "\n"
   ]
  },
  {
   "cell_type": "code",
   "execution_count": 15,
   "metadata": {},
   "outputs": [
    {
     "name": "stdout",
     "output_type": "stream",
     "text": [
      "Enrollment rates for male children in poor households:\n",
      "               1997      1998\n",
      "Control    0.831962  0.821840\n",
      "Treatment  0.837013  0.857111\n",
      "Causal impact of treatment on enrollment rate for male children: 0.0302\n",
      "\n",
      "\n",
      "Enrollment rates for female children in poor households:\n",
      "               1997      1998\n",
      "Control    0.798211  0.793016\n",
      "Treatment  0.807148  0.834966\n",
      "Causal impact of treatment on enrollment rate for female children: 0.0330\n",
      "\n"
     ]
    }
   ],
   "source": [
    "ds_pM = ds[(ds['poor'] == 1) & (ds['sex'] == 1)]\n",
    "\n",
    "M_C97 = ds_pM[(ds_pM['progresa'] == 0) & (ds_pM['year'] == 97)]['sc'].mean(skipna=True)\n",
    "M_C98 = ds_pM[(ds_pM['progresa'] == 0) & (ds_pM['year'] == 98)]['sc'].mean(skipna=True)\n",
    "M_T97 = ds_pM[(ds_pM['progresa'] == 1) & (ds_pM['year'] == 97)]['sc'].mean(skipna=True)\n",
    "M_T98 = ds_pM[(ds_pM['progresa'] == 1) & (ds_pM['year'] == 98)]['sc'].mean(skipna=True)\n",
    "M_tab = pd.DataFrame({'1997': [M_C97, M_T97], '1998': [M_C98, M_T98]}, index=['Control', 'Treatment'])\n",
    "print(\"Enrollment rates for male children in poor households:\")\n",
    "print(M_tab)\n",
    "Mimpact = (M_T98-M_T97)-(M_C98-M_C97)\n",
    "print(f\"Causal impact of treatment on enrollment rate for male children: {Mimpact:.4f}\\n\\n\")\n",
    "\n",
    "ds_pM = ds[(ds['poor'] == 1) & (ds['sex'] == 0)]\n",
    "M_C97 = ds_pM[(ds_pM['progresa'] == 0) & (ds_pM['year'] == 97)]['sc'].mean(skipna=True)\n",
    "M_C98 = ds_pM[(ds_pM['progresa'] == 0) & (ds_pM['year'] == 98)]['sc'].mean(skipna=True)\n",
    "M_T97 = ds_pM[(ds_pM['progresa'] == 1) & (ds_pM['year'] == 97)]['sc'].mean(skipna=True)\n",
    "M_T98 = ds_pM[(ds_pM['progresa'] == 1) & (ds_pM['year'] == 98)]['sc'].mean(skipna=True)\n",
    "F_tab = pd.DataFrame({'1997': [M_C97, M_T97], '1998': [M_C98, M_T98]}, index=['Control', 'Treatment'])\n",
    "print(\"Enrollment rates for female children in poor households:\")\n",
    "print(F_tab)\n",
    "Fimpact = (M_T98-M_T97)-(M_C98-M_C97)\n",
    "print(f\"Causal impact of treatment on enrollment rate for female children: {Fimpact:.4f}\\n\")\n"
   ]
  },
  {
   "cell_type": "markdown",
   "metadata": {},
   "source": [
    "Regarding the above scores, the impact of treatment for females is higher (**0.033** > 0.030), so it had a higher impact on female enrollment rates compared to males. "
   ]
  },
  {
   "cell_type": "code",
   "execution_count": 16,
   "metadata": {},
   "outputs": [],
   "source": [
    "ds_p = ds[ds['poor'] == 1]"
   ]
  },
  {
   "cell_type": "code",
   "execution_count": 17,
   "metadata": {},
   "outputs": [
    {
     "name": "stdout",
     "output_type": "stream",
     "text": [
      "Coefficient for progresa:year_98\n",
      "--------------------------------\n",
      "Impact for male:\n",
      "   -0.0101\n",
      "\n",
      "Impact for female:\n",
      "   -0.0052\n"
     ]
    }
   ],
   "source": [
    "# For male children\n",
    "ds_p_male = ds_p[ds_p['sex'] == 1]\n",
    "ds_p_male = pd.get_dummies(ds_p_male, columns=['year'], prefix='year')\n",
    "dIndModel_male = smf.ols(\"sc ~ progresa * year_98\", data=ds_p_male).fit()\n",
    "\n",
    "ds_p_female = ds_p[ds_p['sex'] == 0]\n",
    "ds_p_female = pd.get_dummies(ds_p_female, columns=['year'], prefix='year')\n",
    "dIndModel_female = smf.ols(\"sc ~ progresa * year_98\", data=ds_p_female).fit()\n",
    "\n",
    "print(\"Coefficient for progresa:year_98\")\n",
    "print(\"--------------------------------\")\n",
    "print(\"Impact for male:\")\n",
    "print(dIndModel_male.summary().tables[1].data[3][1]) \n",
    "print(\"\\nImpact for female:\")\n",
    "print(dIndModel_female.summary().tables[1].data[3][1])\n"
   ]
  },
  {
   "cell_type": "code",
   "execution_count": 18,
   "metadata": {},
   "outputs": [
    {
     "name": "stdout",
     "output_type": "stream",
     "text": [
      "                            OLS Regression Results                            \n",
      "==============================================================================\n",
      "Dep. Variable:                     sc   R-squared:                       0.003\n",
      "Model:                            OLS   Adj. R-squared:                  0.003\n",
      "Method:                 Least Squares   F-statistic:                     23.91\n",
      "Date:                Tue, 11 Feb 2025   Prob (F-statistic):           1.01e-32\n",
      "Time:                        04:40:56   Log-Likelihood:                -26189.\n",
      "No. Observations:               58352   AIC:                         5.239e+04\n",
      "Df Residuals:                   58344   BIC:                         5.247e+04\n",
      "Df Model:                           7                                         \n",
      "Covariance Type:            nonrobust                                         \n",
      "========================================================================================================\n",
      "                                           coef    std err          t      P>|t|      [0.025      0.975]\n",
      "--------------------------------------------------------------------------------------------------------\n",
      "Intercept                                0.8320      0.005    169.399      0.000       0.822       0.842\n",
      "progresa[T.1]                            0.0051      0.006      0.814      0.416      -0.007       0.017\n",
      "year_98[T.True]                         -0.0101      0.007     -1.414      0.157      -0.024       0.004\n",
      "progresa[T.1]:year_98[T.True]            0.0302      0.009      3.339      0.001       0.012       0.048\n",
      "female                                  -0.0338      0.007     -4.830      0.000      -0.047      -0.020\n",
      "progresa[T.1]:female                     0.0039      0.009      0.437      0.662      -0.014       0.021\n",
      "year_98[T.True]:female                   0.0049      0.010      0.483      0.629      -0.015       0.025\n",
      "progresa[T.1]:year_98[T.True]:female     0.0028      0.013      0.216      0.829      -0.023       0.028\n",
      "==============================================================================\n",
      "Omnibus:                    15305.553   Durbin-Watson:                   1.397\n",
      "Prob(Omnibus):                  0.000   Jarque-Bera (JB):            30480.686\n",
      "Skew:                          -1.707   Prob(JB):                         0.00\n",
      "Kurtosis:                       3.935   Cond. No.                         19.8\n",
      "==============================================================================\n",
      "\n",
      "Notes:\n",
      "[1] Standard Errors assume that the covariance matrix of the errors is correctly specified.\n"
     ]
    }
   ],
   "source": [
    "ds_p = ds_p.copy()\n",
    "ds_p['female'] = 1 - ds_p['sex']  \n",
    "ds_p = pd.get_dummies(ds_p, columns=['year'], prefix='year')\n",
    "\n",
    "dIndModel_gender = smf.ols(\"sc ~ progresa * year_98 * female\", data=ds_p).fit()\n",
    "print(dIndModel_gender.summary())\n"
   ]
  },
  {
   "cell_type": "markdown",
   "metadata": {},
   "source": [
    "* The main difference for this study is how we define the interactions. The coefficient on progresa:year_98 is related to the impact of progresa on male children, while progresa:year_98:female shows the additional impact of treatment on female children compared to male children. This means that the sum of these two coefficients gives the total impact of progresa on females; which in this study is: 0.0302 + 0.0028 = 0.033 which is the same as what we got in the previous part."
   ]
  },
  {
   "cell_type": "markdown",
   "metadata": {},
   "source": [
    "### 2.8 Summary\n",
    "\n",
    "* Based on all the analysis you have undertaken to date, do you believe that Progresa had a causal impact on the enrollment rates of poor households in Mexico? "
   ]
  },
  {
   "cell_type": "markdown",
   "metadata": {},
   "source": [
    "* Overall, based on the analysis, we have some evidence that progresa likely had a causal impact on school enrollment rates. One of the main pieces of evidence was got from the DiD models: suggesting that treatment villages experienced a higher increase in enrollment compared to control villages, and the effect persists even after controlling for various other factors. Also the robustness of the treatment effect across multiple factor (with and without controls) strengthens the case for a real impact of progresa on enrollment rate. Also we saw that the program had a larger positive impact on female enrollments. The positive impact was seen across different analytical approaches, including simple comparisons of enrollment rates and also the use of regression analyses. \n",
    "* Plus, as far as I know, the original progresa program was run as a randomized controlled trial, which further supports the causal interpretation of the observed effects.\n",
    "\n",
    "P.S. while the causal effect of progresa is suggested by the analysis we done in this assignment, generalizability to other settings [or maybe over time] might be limited. The specific context of Mexico's program may not directly apply to other regions or countries (?).\n",
    "\n"
   ]
  },
  {
   "cell_type": "markdown",
   "metadata": {},
   "source": [
    "### 2.9 Spillover effects [EXTRA CREDIT]: \n",
    "\n",
    "\n",
    "Thus far, we have focused on the impact of PROGRESA on the school enrollment of poor households. Repeat your analysis in 2.5, instead focusing on (a) the impact of PROGRESA on the school enrollment of non-poor households, and (b) the impact ofo PROGRESA on *other outcomes* of poor households that might plausibly have been affected by the PROGRESA program.\n",
    "* Do you observe any impacts of PROGRESA on the school enrollment of the non-poor?\n",
    "* Regardless of whether you find evidence of spillovers to non-poor, describe one or two reasons why PROGRESA *might* have impacted non-poor households. Give concrete examples based on the context in which PROGRESA was implemented.\n",
    "* Do you observe any impacts of PROGRESA on other aspects of the welfare of poor households? "
   ]
  },
  {
   "cell_type": "code",
   "execution_count": 19,
   "metadata": {
    "lines_to_next_cell": 2
   },
   "outputs": [
    {
     "name": "stdout",
     "output_type": "stream",
     "text": [
      "                            OLS Regression Results                            \n",
      "==============================================================================\n",
      "Dep. Variable:                     sc   R-squared:                       0.283\n",
      "Model:                            OLS   Adj. R-squared:                  0.283\n",
      "Method:                 Least Squares   F-statistic:                     453.6\n",
      "Date:                Tue, 11 Feb 2025   Prob (F-statistic):               0.00\n",
      "Time:                        04:41:00   Log-Likelihood:                -3675.3\n",
      "No. Observations:               10334   AIC:                             7371.\n",
      "Df Residuals:                   10324   BIC:                             7443.\n",
      "Df Model:                           9                                         \n",
      "Covariance Type:            nonrobust                                         \n",
      "=================================================================================================\n",
      "                                    coef    std err          t      P>|t|      [0.025      0.975]\n",
      "-------------------------------------------------------------------------------------------------\n",
      "Intercept                         1.4462      0.030     48.805      0.000       1.388       1.504\n",
      "progresa[T.1]                     0.0275      0.009      2.945      0.003       0.009       0.046\n",
      "year_98[T.True]                   0.0387      0.011      3.565      0.000       0.017       0.060\n",
      "progresa[T.1]:year_98[T.True]    -0.0019      0.014     -0.134      0.893      -0.029       0.026\n",
      "age                              -0.0681      0.001    -59.864      0.000      -0.070      -0.066\n",
      "dist_sec                         -0.0159      0.002     -8.958      0.000      -0.019      -0.012\n",
      "hohedu                            0.0093      0.001      8.559      0.000       0.007       0.011\n",
      "sex                               0.0295      0.007      4.331      0.000       0.016       0.043\n",
      "indig                             0.0391      0.010      3.849      0.000       0.019       0.059\n",
      "welfare_index                     0.0001   2.84e-05      3.790      0.000     5.2e-05       0.000\n",
      "==============================================================================\n",
      "Omnibus:                      844.510   Durbin-Watson:                   1.494\n",
      "Prob(Omnibus):                  0.000   Jarque-Bera (JB):              824.786\n",
      "Skew:                          -0.635   Prob(JB):                    7.94e-180\n",
      "Kurtosis:                       2.452   Cond. No.                     7.77e+03\n",
      "==============================================================================\n",
      "\n",
      "Notes:\n",
      "[1] Standard Errors assume that the covariance matrix of the errors is correctly specified.\n",
      "[2] The condition number is large, 7.77e+03. This might indicate that there are\n",
      "strong multicollinearity or other numerical problems.\n"
     ]
    }
   ],
   "source": [
    "ds_spillover= ds[ds.poor==0]\n",
    "ds_spillover = pd.get_dummies(ds_spillover, columns=['year'], prefix='year')\n",
    "spModel = smf.ols(\"sc ~ progresa * (year_98) + age + dist_sec + hohedu + sex + indig + welfare_index\", data=ds_spillover).fit()\n",
    "print(spModel.summary())"
   ]
  },
  {
   "cell_type": "markdown",
   "metadata": {},
   "source": [
    "* The DiD etimator is -0.0119 with a p>0.05. So we cannot reject the null hypothesis. So we conclude that the effect of treatment on wealthy households is negligible.\n",
    "* Let's look at the welfare index where the coefficient is 1e-4 with a significant p-value. This could reinforce the idea that some people might underreport assets to qualify for the program. Also with more kids in school instead of working, labor shortages may have pushed up wages for low skilled jobs. This could have helped non-poor households relying on hired labor--like a rural landowner needing to pay higher wages to attract farmworkers, benefiting workers but raising costs for employer.\n",
    "* One can be welfare index that was touched on before. Another thing can be education related factors like distance to secondary school which has a negative and significant impact on rate. This indicates that students living father from schools are less likely to attend. Also from hohedu coefficient, we can conclude that higher household education levels increase school attendance "
   ]
  },
  {
   "cell_type": "code",
   "execution_count": null,
   "metadata": {},
   "outputs": [],
   "source": []
  }
 ],
 "metadata": {
  "anaconda-cloud": {},
  "jupytext": {
   "formats": "ipynb,py:light"
  },
  "kernelspec": {
   "display_name": "benpyenv",
   "language": "python",
   "name": "benpyenv"
  },
  "language_info": {
   "codemirror_mode": {
    "name": "ipython",
    "version": 3
   },
   "file_extension": ".py",
   "mimetype": "text/x-python",
   "name": "python",
   "nbconvert_exporter": "python",
   "pygments_lexer": "ipython3",
   "version": "3.10.16"
  }
 },
 "nbformat": 4,
 "nbformat_minor": 4
}
