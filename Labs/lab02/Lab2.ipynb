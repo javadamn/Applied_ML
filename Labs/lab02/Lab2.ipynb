{
 "cells": [
  {
   "cell_type": "markdown",
   "metadata": {},
   "source": [
    "# Lab 2 - Regression, DiD, and Fixed Effects\n",
    "- **Author:** Suraj R. Nair ([suraj.nair@berkeley.edu](mailto:suraj.nair@berkeley.edu))\n",
    "- **Date:** January 28, 2025\n",
    "- **Course:** INFO 251: Applied machine learning"
   ]
  },
  {
   "cell_type": "markdown",
   "metadata": {},
   "source": [
    "### Topics:\n",
    "1. Linear/ Multivariate Regression\n",
    "2. T-tests\n",
    "3. Dummy variables"
   ]
  },
  {
   "cell_type": "markdown",
   "metadata": {},
   "source": [
    "### References: \n",
    " * [Statsmodels](http://www.statsmodels.org/stable/example_formulas.html#loading-modules-and-functions) \n",
    " * [Interpreting regression coefficients](https://dss.princeton.edu/online_help/analysis/interpreting_regression.htm)\n",
    " * [Card and Krueger (1994)](https://davidcard.berkeley.edu/papers/njmin-aer.pdf)\n",
    " * Fixed Effects:\n",
    "      - [Panel Data and Fixed Effects in Python](https://matheusfacure.github.io/python-causality-handbook/14-Panel-Data-and-Fixed-Effects.html)\n",
    "      - [Notes](https://www.jblumenstock.com/files/courses/econ174/FEModels.pdf) on fixed effects"
   ]
  },
  {
   "cell_type": "markdown",
   "metadata": {},
   "source": [
    "### Import libraries"
   ]
  },
  {
   "cell_type": "code",
   "execution_count": 70,
   "metadata": {},
   "outputs": [],
   "source": [
    "# Standard imports\n",
    "import pandas as pd\n",
    "import numpy as np\n",
    "import matplotlib.pyplot as plt \n",
    "import seaborn as sns\n",
    "%matplotlib inline  \n",
    "\n",
    "# The packages you'll need for regression models\n",
    "import statsmodels.api as sm\n",
    "import statsmodels.formula.api as smf\n",
    "\n",
    "### Package for t-tests\n",
    "from scipy import stats\n",
    "\n",
    "\n",
    "# Confirm that pandas version is greater than 2\n",
    "# the default return value for pd.get_dummies is bool for pandas > 2.0.0 \n",
    "# python_version = int(pd.__version__.split(\".\")[0])\n",
    "# assert python_version >= 2, \"Ensure pandas version >=2.0.0\" "
   ]
  },
  {
   "cell_type": "markdown",
   "metadata": {},
   "source": [
    "### Load the data\n",
    "\n",
    "Card and Krueger (1994) collected survey data on employment in fast food restaurants in New Jersey and Pennsylvania in 1992. The data for today's lab uses a subset of the variables they collected.\n",
    "\n",
    "- *UNIQUE_ID*: Unique ID for the restaurant interviewed\n",
    "- *PERIOD*: 0 for pre-period (March 1994), 1 for post-period (December 1994)\n",
    "- *STATE*: 0 for Pennsylvania, 1 for New Jersey\n",
    "- *REGION*: Region code: 1 = Southern NJ, 2 = Central NJ, 3 = Northern NJ, 4 = Northeast Philly suburbs, 5 = Easton area, 6 = NJ Shore\n",
    "- *CHAIN*: Chain restaurant code: 1 = Burger King, 2 = KFC, 3 = Roy's, 4 = Wendy's\n",
    "- *EMP*: Number of employees (fulltime or parttime)\n",
    "- *CO_OWNED*: 1 if company-owned\n",
    "- *BONUS*: 1 if employees get a signing bonus\n",
    "- *HRSOPEN*: Hours open per day, up to 24\n",
    "- *NREGS*: Number of registers"
   ]
  },
  {
   "cell_type": "code",
   "execution_count": 4,
   "metadata": {},
   "outputs": [
    {
     "data": {
      "text/html": [
       "<div>\n",
       "<style scoped>\n",
       "    .dataframe tbody tr th:only-of-type {\n",
       "        vertical-align: middle;\n",
       "    }\n",
       "\n",
       "    .dataframe tbody tr th {\n",
       "        vertical-align: top;\n",
       "    }\n",
       "\n",
       "    .dataframe thead th {\n",
       "        text-align: right;\n",
       "    }\n",
       "</style>\n",
       "<table border=\"1\" class=\"dataframe\">\n",
       "  <thead>\n",
       "    <tr style=\"text-align: right;\">\n",
       "      <th></th>\n",
       "      <th>UNIQUE_ID</th>\n",
       "      <th>PERIOD</th>\n",
       "      <th>STATE</th>\n",
       "      <th>REGION</th>\n",
       "      <th>CHAIN</th>\n",
       "      <th>EMP</th>\n",
       "      <th>CO_OWNED</th>\n",
       "      <th>BONUS</th>\n",
       "      <th>HRSOPEN</th>\n",
       "      <th>NREGS</th>\n",
       "    </tr>\n",
       "  </thead>\n",
       "  <tbody>\n",
       "    <tr>\n",
       "      <th>0</th>\n",
       "      <td>46.0</td>\n",
       "      <td>0</td>\n",
       "      <td>0.0</td>\n",
       "      <td>4</td>\n",
       "      <td>1.0</td>\n",
       "      <td>45.0</td>\n",
       "      <td>0.0</td>\n",
       "      <td>1.0</td>\n",
       "      <td>16.5</td>\n",
       "      <td>3.0</td>\n",
       "    </tr>\n",
       "    <tr>\n",
       "      <th>1</th>\n",
       "      <td>49.0</td>\n",
       "      <td>0</td>\n",
       "      <td>0.0</td>\n",
       "      <td>4</td>\n",
       "      <td>2.0</td>\n",
       "      <td>13.0</td>\n",
       "      <td>0.0</td>\n",
       "      <td>0.0</td>\n",
       "      <td>13.0</td>\n",
       "      <td>4.0</td>\n",
       "    </tr>\n",
       "    <tr>\n",
       "      <th>2</th>\n",
       "      <td>506.0</td>\n",
       "      <td>0</td>\n",
       "      <td>0.0</td>\n",
       "      <td>4</td>\n",
       "      <td>2.0</td>\n",
       "      <td>10.0</td>\n",
       "      <td>1.0</td>\n",
       "      <td>0.0</td>\n",
       "      <td>10.0</td>\n",
       "      <td>3.0</td>\n",
       "    </tr>\n",
       "    <tr>\n",
       "      <th>3</th>\n",
       "      <td>56.0</td>\n",
       "      <td>0</td>\n",
       "      <td>0.0</td>\n",
       "      <td>4</td>\n",
       "      <td>4.0</td>\n",
       "      <td>40.0</td>\n",
       "      <td>1.0</td>\n",
       "      <td>1.0</td>\n",
       "      <td>12.0</td>\n",
       "      <td>2.0</td>\n",
       "    </tr>\n",
       "    <tr>\n",
       "      <th>4</th>\n",
       "      <td>61.0</td>\n",
       "      <td>0</td>\n",
       "      <td>0.0</td>\n",
       "      <td>4</td>\n",
       "      <td>4.0</td>\n",
       "      <td>32.0</td>\n",
       "      <td>1.0</td>\n",
       "      <td>1.0</td>\n",
       "      <td>12.0</td>\n",
       "      <td>2.0</td>\n",
       "    </tr>\n",
       "  </tbody>\n",
       "</table>\n",
       "</div>"
      ],
      "text/plain": [
       "   UNIQUE_ID  PERIOD  STATE  REGION  CHAIN   EMP  CO_OWNED  BONUS  HRSOPEN  \\\n",
       "0       46.0       0    0.0       4    1.0  45.0       0.0    1.0     16.5   \n",
       "1       49.0       0    0.0       4    2.0  13.0       0.0    0.0     13.0   \n",
       "2      506.0       0    0.0       4    2.0  10.0       1.0    0.0     10.0   \n",
       "3       56.0       0    0.0       4    4.0  40.0       1.0    1.0     12.0   \n",
       "4       61.0       0    0.0       4    4.0  32.0       1.0    1.0     12.0   \n",
       "\n",
       "   NREGS  \n",
       "0    3.0  \n",
       "1    4.0  \n",
       "2    3.0  \n",
       "3    2.0  \n",
       "4    2.0  "
      ]
     },
     "execution_count": 4,
     "metadata": {},
     "output_type": "execute_result"
    }
   ],
   "source": [
    "df = pd.read_csv('fastfood.csv')\n",
    "df.head()"
   ]
  },
  {
   "cell_type": "code",
   "execution_count": 5,
   "metadata": {},
   "outputs": [
    {
     "data": {
      "text/html": [
       "<div>\n",
       "<style scoped>\n",
       "    .dataframe tbody tr th:only-of-type {\n",
       "        vertical-align: middle;\n",
       "    }\n",
       "\n",
       "    .dataframe tbody tr th {\n",
       "        vertical-align: top;\n",
       "    }\n",
       "\n",
       "    .dataframe thead th {\n",
       "        text-align: right;\n",
       "    }\n",
       "</style>\n",
       "<table border=\"1\" class=\"dataframe\">\n",
       "  <thead>\n",
       "    <tr style=\"text-align: right;\">\n",
       "      <th></th>\n",
       "      <th>UNIQUE_ID</th>\n",
       "      <th>PERIOD</th>\n",
       "      <th>STATE</th>\n",
       "      <th>REGION</th>\n",
       "      <th>CHAIN</th>\n",
       "      <th>EMP</th>\n",
       "      <th>CO_OWNED</th>\n",
       "      <th>BONUS</th>\n",
       "      <th>HRSOPEN</th>\n",
       "      <th>NREGS</th>\n",
       "    </tr>\n",
       "  </thead>\n",
       "  <tbody>\n",
       "    <tr>\n",
       "      <th>785</th>\n",
       "      <td>423.0</td>\n",
       "      <td>1</td>\n",
       "      <td>1.0</td>\n",
       "      <td>3</td>\n",
       "      <td>2.0</td>\n",
       "      <td>22.5</td>\n",
       "      <td>1.0</td>\n",
       "      <td>1.0</td>\n",
       "      <td>12.0</td>\n",
       "      <td>3.0</td>\n",
       "    </tr>\n",
       "    <tr>\n",
       "      <th>786</th>\n",
       "      <td>424.0</td>\n",
       "      <td>1</td>\n",
       "      <td>1.0</td>\n",
       "      <td>3</td>\n",
       "      <td>2.0</td>\n",
       "      <td>15.0</td>\n",
       "      <td>1.0</td>\n",
       "      <td>0.0</td>\n",
       "      <td>11.0</td>\n",
       "      <td>5.0</td>\n",
       "    </tr>\n",
       "    <tr>\n",
       "      <th>787</th>\n",
       "      <td>426.0</td>\n",
       "      <td>1</td>\n",
       "      <td>1.0</td>\n",
       "      <td>3</td>\n",
       "      <td>3.0</td>\n",
       "      <td>30.0</td>\n",
       "      <td>1.0</td>\n",
       "      <td>0.0</td>\n",
       "      <td>19.0</td>\n",
       "      <td>5.0</td>\n",
       "    </tr>\n",
       "    <tr>\n",
       "      <th>788</th>\n",
       "      <td>427.0</td>\n",
       "      <td>1</td>\n",
       "      <td>1.0</td>\n",
       "      <td>3</td>\n",
       "      <td>4.0</td>\n",
       "      <td>35.0</td>\n",
       "      <td>0.0</td>\n",
       "      <td>0.0</td>\n",
       "      <td>12.5</td>\n",
       "      <td>2.0</td>\n",
       "    </tr>\n",
       "    <tr>\n",
       "      <th>789</th>\n",
       "      <td>428.0</td>\n",
       "      <td>1</td>\n",
       "      <td>1.0</td>\n",
       "      <td>3</td>\n",
       "      <td>4.0</td>\n",
       "      <td>34.0</td>\n",
       "      <td>0.0</td>\n",
       "      <td>0.0</td>\n",
       "      <td>12.5</td>\n",
       "      <td>2.0</td>\n",
       "    </tr>\n",
       "  </tbody>\n",
       "</table>\n",
       "</div>"
      ],
      "text/plain": [
       "     UNIQUE_ID  PERIOD  STATE  REGION  CHAIN   EMP  CO_OWNED  BONUS  HRSOPEN  \\\n",
       "785      423.0       1    1.0       3    2.0  22.5       1.0    1.0     12.0   \n",
       "786      424.0       1    1.0       3    2.0  15.0       1.0    0.0     11.0   \n",
       "787      426.0       1    1.0       3    3.0  30.0       1.0    0.0     19.0   \n",
       "788      427.0       1    1.0       3    4.0  35.0       0.0    0.0     12.5   \n",
       "789      428.0       1    1.0       3    4.0  34.0       0.0    0.0     12.5   \n",
       "\n",
       "     NREGS  \n",
       "785    3.0  \n",
       "786    5.0  \n",
       "787    5.0  \n",
       "788    2.0  \n",
       "789    2.0  "
      ]
     },
     "execution_count": 5,
     "metadata": {},
     "output_type": "execute_result"
    }
   ],
   "source": [
    "df.tail()"
   ]
  },
  {
   "cell_type": "code",
   "execution_count": 6,
   "metadata": {},
   "outputs": [],
   "source": [
    "#Create a variable identifying the pre-treatment period, and post-treatment period\n",
    "pre = df[df['PERIOD'] == 0].copy()\n",
    "post = df[df['PERIOD'] == 1].copy()"
   ]
  },
  {
   "cell_type": "markdown",
   "metadata": {},
   "source": [
    "## 1. Warm Up: Exploratory analysis\n",
    "\n",
    "**To do**:\n",
    "- Find the correlation between the number of employees (EMP) and the hours open per day (HRSOPEN). \n",
    "- Generate a scatterplot with HRSOPEN on the x axis, and EMP on the y axis. Ensure that you label your axes, add a title etc. "
   ]
  },
  {
   "cell_type": "code",
   "execution_count": 1,
   "metadata": {},
   "outputs": [],
   "source": [
    "# YOUR CODE HERE"
   ]
  },
  {
   "cell_type": "markdown",
   "metadata": {},
   "source": [
    "## 2.  Linear regression with statsmodels\n",
    "\n",
    "As we discussed in class, linear regression provides us a concise summary of one variable as a function of another variables(s) through two types of parameters - the slope and the intercept. We'll start by exploring the relationship between employment and the number of hours a restaurant is open in the **pre-period**.\n",
    "\n",
    "**To do**: \n",
    "- Run a regression where the dependent variable is the number of employees (EMP), and the independent variable is the hours open per day (HRSOPEN) -- this is implemented for you. \n",
    "- Pair up with a classmate seated near you. discuss the interpretations of the slope and intercept coefficients. "
   ]
  },
  {
   "cell_type": "code",
   "execution_count": 18,
   "metadata": {},
   "outputs": [
    {
     "name": "stdout",
     "output_type": "stream",
     "text": [
      "                            OLS Regression Results                            \n",
      "==============================================================================\n",
      "Dep. Variable:                      y   R-squared:                       0.314\n",
      "Model:                            OLS   Adj. R-squared:                  0.313\n",
      "Method:                 Least Squares   F-statistic:                     182.1\n",
      "Date:                Tue, 28 Jan 2025   Prob (F-statistic):           2.02e-34\n",
      "Time:                        22:09:16   Log-Likelihood:                -1494.8\n",
      "No. Observations:                 399   AIC:                             2994.\n",
      "Df Residuals:                     397   BIC:                             3002.\n",
      "Df Model:                           1                                         \n",
      "Covariance Type:            nonrobust                                         \n",
      "==============================================================================\n",
      "                 coef    std err          t      P>|t|      [0.025      0.975]\n",
      "------------------------------------------------------------------------------\n",
      "const         -8.6277      2.689     -3.209      0.001     -13.913      -3.342\n",
      "x1             2.4657      0.183     13.494      0.000       2.106       2.825\n",
      "==============================================================================\n",
      "Omnibus:                      118.371   Durbin-Watson:                   1.800\n",
      "Prob(Omnibus):                  0.000   Jarque-Bera (JB):              360.673\n",
      "Skew:                           1.364   Prob(JB):                     4.79e-79\n",
      "Kurtosis:                       6.775   Cond. No.                         77.2\n",
      "==============================================================================\n",
      "\n",
      "Notes:\n",
      "[1] Standard Errors assume that the covariance matrix of the errors is correctly specified.\n"
     ]
    }
   ],
   "source": [
    "# Syntax option 1\n",
    "x, y = pre['HRSOPEN'].values, pre['EMP'].values # x is the input variable, y is the output variable\n",
    "x = sm.add_constant(x) # Add a constant for the intercept term\n",
    "model1 = sm.OLS(y, x).fit() # Note the order of y folowed by x!\n",
    "print(model1.summary())"
   ]
  },
  {
   "cell_type": "code",
   "execution_count": 19,
   "metadata": {},
   "outputs": [
    {
     "name": "stdout",
     "output_type": "stream",
     "text": [
      "                            OLS Regression Results                            \n",
      "==============================================================================\n",
      "Dep. Variable:                    EMP   R-squared:                       0.314\n",
      "Model:                            OLS   Adj. R-squared:                  0.313\n",
      "Method:                 Least Squares   F-statistic:                     182.1\n",
      "Date:                Tue, 28 Jan 2025   Prob (F-statistic):           2.02e-34\n",
      "Time:                        22:09:18   Log-Likelihood:                -1494.8\n",
      "No. Observations:                 399   AIC:                             2994.\n",
      "Df Residuals:                     397   BIC:                             3002.\n",
      "Df Model:                           1                                         \n",
      "Covariance Type:            nonrobust                                         \n",
      "==============================================================================\n",
      "                 coef    std err          t      P>|t|      [0.025      0.975]\n",
      "------------------------------------------------------------------------------\n",
      "Intercept     -8.6277      2.689     -3.209      0.001     -13.913      -3.342\n",
      "HRSOPEN        2.4657      0.183     13.494      0.000       2.106       2.825\n",
      "==============================================================================\n",
      "Omnibus:                      118.371   Durbin-Watson:                   1.800\n",
      "Prob(Omnibus):                  0.000   Jarque-Bera (JB):              360.673\n",
      "Skew:                           1.364   Prob(JB):                     4.79e-79\n",
      "Kurtosis:                       6.775   Cond. No.                         77.2\n",
      "==============================================================================\n",
      "\n",
      "Notes:\n",
      "[1] Standard Errors assume that the covariance matrix of the errors is correctly specified.\n"
     ]
    }
   ],
   "source": [
    "# Syntax option 2\n",
    "model2 = smf.ols(formula='EMP ~ HRSOPEN', data=pre).fit() # Automatically includes the intercept term\n",
    "print(model2.summary())"
   ]
  },
  {
   "cell_type": "markdown",
   "metadata": {},
   "source": [
    "## 3. Difference in means, linear regression, and t-tests\n",
    "\n",
    "Our goal is to answer a simple question: prior to the increase in minimum wage, do restaurants in New Jersey employ more workers than restaurants in Pennsylvania on average? It's fine to eyeball the data to answer this initially, but our goal is to arrive at a more robust conclusion via the use of some statistical tests. \n",
    "\n",
    "**To do**:\n",
    "\n",
    "1. Calculate mean difference in the number of employees (EMP) between New Jersey (STATE == 1) and Pennsylvania (STATE == 0) in the pre-period.\n",
    "2. Run a t-test to determine if the the difference between these two groups is statistically significant. One way to do this is to use the scipy function [*ttest_ind*](https://docs.scipy.org/doc/scipy/reference/generated/scipy.stats.ttest_ind.html). \n",
    "3. Finally, run a regression where the dependent / outcome variable is the number of employees (EMP), and the independent variable is the state (STATE). \n",
    "\n",
    "Pair up with a classmate seated near you. Discuss the following:\n",
    "- For the statistical test(s) you've set up, what are the null and alternate hypotheses?\n",
    "- Compare the intercept and slope coefficient from the regression in 3 to your results in 1. What do you observe?\n",
    "- Compare the t-statistic and the corresponding p-value for the slope coefficient (from 3) to your results in 2. What do you observe, and why?\n",
    "- Prior to the increase in minimum wage, do restaurants in New Jersey employ more workers than restaurants in Pennsylvania?\n"
   ]
  },
  {
   "cell_type": "code",
   "execution_count": 27,
   "metadata": {},
   "outputs": [
    {
     "data": {
      "text/html": [
       "<table class=\"simpletable\">\n",
       "<caption>OLS Regression Results</caption>\n",
       "<tr>\n",
       "  <th>Dep. Variable:</th>           <td>EMP</td>       <th>  R-squared:         </th> <td>   0.012</td>\n",
       "</tr>\n",
       "<tr>\n",
       "  <th>Model:</th>                   <td>OLS</td>       <th>  Adj. R-squared:    </th> <td>   0.009</td>\n",
       "</tr>\n",
       "<tr>\n",
       "  <th>Method:</th>             <td>Least Squares</td>  <th>  F-statistic:       </th> <td>   4.675</td>\n",
       "</tr>\n",
       "<tr>\n",
       "  <th>Date:</th>             <td>Tue, 28 Jan 2025</td> <th>  Prob (F-statistic):</th>  <td>0.0312</td> \n",
       "</tr>\n",
       "<tr>\n",
       "  <th>Time:</th>                 <td>22:44:31</td>     <th>  Log-Likelihood:    </th> <td> -1567.8</td>\n",
       "</tr>\n",
       "<tr>\n",
       "  <th>No. Observations:</th>      <td>   399</td>      <th>  AIC:               </th> <td>   3140.</td>\n",
       "</tr>\n",
       "<tr>\n",
       "  <th>Df Residuals:</th>          <td>   397</td>      <th>  BIC:               </th> <td>   3148.</td>\n",
       "</tr>\n",
       "<tr>\n",
       "  <th>Df Model:</th>              <td>     1</td>      <th>                     </th>     <td> </td>   \n",
       "</tr>\n",
       "<tr>\n",
       "  <th>Covariance Type:</th>      <td>nonrobust</td>    <th>                     </th>     <td> </td>   \n",
       "</tr>\n",
       "</table>\n",
       "<table class=\"simpletable\">\n",
       "<tr>\n",
       "      <td></td>         <th>coef</th>     <th>std err</th>      <th>t</th>      <th>P>|t|</th>  <th>[0.025</th>    <th>0.975]</th>  \n",
       "</tr>\n",
       "<tr>\n",
       "  <th>Intercept</th> <td>   29.6923</td> <td>    1.397</td> <td>   21.251</td> <td> 0.000</td> <td>   26.945</td> <td>   32.439</td>\n",
       "</tr>\n",
       "<tr>\n",
       "  <th>STATE</th>     <td>   -3.3683</td> <td>    1.558</td> <td>   -2.162</td> <td> 0.031</td> <td>   -6.431</td> <td>   -0.306</td>\n",
       "</tr>\n",
       "</table>\n",
       "<table class=\"simpletable\">\n",
       "<tr>\n",
       "  <th>Omnibus:</th>       <td>124.338</td> <th>  Durbin-Watson:     </th> <td>   1.751</td>\n",
       "</tr>\n",
       "<tr>\n",
       "  <th>Prob(Omnibus):</th> <td> 0.000</td>  <th>  Jarque-Bera (JB):  </th> <td> 434.665</td>\n",
       "</tr>\n",
       "<tr>\n",
       "  <th>Skew:</th>          <td> 1.379</td>  <th>  Prob(JB):          </th> <td>4.11e-95</td>\n",
       "</tr>\n",
       "<tr>\n",
       "  <th>Kurtosis:</th>      <td> 7.306</td>  <th>  Cond. No.          </th> <td>    4.32</td>\n",
       "</tr>\n",
       "</table><br/><br/>Notes:<br/>[1] Standard Errors assume that the covariance matrix of the errors is correctly specified."
      ],
      "text/latex": [
       "\\begin{center}\n",
       "\\begin{tabular}{lclc}\n",
       "\\toprule\n",
       "\\textbf{Dep. Variable:}    &       EMP        & \\textbf{  R-squared:         } &     0.012   \\\\\n",
       "\\textbf{Model:}            &       OLS        & \\textbf{  Adj. R-squared:    } &     0.009   \\\\\n",
       "\\textbf{Method:}           &  Least Squares   & \\textbf{  F-statistic:       } &     4.675   \\\\\n",
       "\\textbf{Date:}             & Tue, 28 Jan 2025 & \\textbf{  Prob (F-statistic):} &   0.0312    \\\\\n",
       "\\textbf{Time:}             &     22:44:31     & \\textbf{  Log-Likelihood:    } &   -1567.8   \\\\\n",
       "\\textbf{No. Observations:} &         399      & \\textbf{  AIC:               } &     3140.   \\\\\n",
       "\\textbf{Df Residuals:}     &         397      & \\textbf{  BIC:               } &     3148.   \\\\\n",
       "\\textbf{Df Model:}         &           1      & \\textbf{                     } &             \\\\\n",
       "\\textbf{Covariance Type:}  &    nonrobust     & \\textbf{                     } &             \\\\\n",
       "\\bottomrule\n",
       "\\end{tabular}\n",
       "\\begin{tabular}{lcccccc}\n",
       "                   & \\textbf{coef} & \\textbf{std err} & \\textbf{t} & \\textbf{P$> |$t$|$} & \\textbf{[0.025} & \\textbf{0.975]}  \\\\\n",
       "\\midrule\n",
       "\\textbf{Intercept} &      29.6923  &        1.397     &    21.251  &         0.000        &       26.945    &       32.439     \\\\\n",
       "\\textbf{STATE}     &      -3.3683  &        1.558     &    -2.162  &         0.031        &       -6.431    &       -0.306     \\\\\n",
       "\\bottomrule\n",
       "\\end{tabular}\n",
       "\\begin{tabular}{lclc}\n",
       "\\textbf{Omnibus:}       & 124.338 & \\textbf{  Durbin-Watson:     } &    1.751  \\\\\n",
       "\\textbf{Prob(Omnibus):} &   0.000 & \\textbf{  Jarque-Bera (JB):  } &  434.665  \\\\\n",
       "\\textbf{Skew:}          &   1.379 & \\textbf{  Prob(JB):          } & 4.11e-95  \\\\\n",
       "\\textbf{Kurtosis:}      &   7.306 & \\textbf{  Cond. No.          } &     4.32  \\\\\n",
       "\\bottomrule\n",
       "\\end{tabular}\n",
       "%\\caption{OLS Regression Results}\n",
       "\\end{center}\n",
       "\n",
       "Notes: \\newline\n",
       " [1] Standard Errors assume that the covariance matrix of the errors is correctly specified."
      ],
      "text/plain": [
       "<class 'statsmodels.iolib.summary.Summary'>\n",
       "\"\"\"\n",
       "                            OLS Regression Results                            \n",
       "==============================================================================\n",
       "Dep. Variable:                    EMP   R-squared:                       0.012\n",
       "Model:                            OLS   Adj. R-squared:                  0.009\n",
       "Method:                 Least Squares   F-statistic:                     4.675\n",
       "Date:                Tue, 28 Jan 2025   Prob (F-statistic):             0.0312\n",
       "Time:                        22:44:31   Log-Likelihood:                -1567.8\n",
       "No. Observations:                 399   AIC:                             3140.\n",
       "Df Residuals:                     397   BIC:                             3148.\n",
       "Df Model:                           1                                         \n",
       "Covariance Type:            nonrobust                                         \n",
       "==============================================================================\n",
       "                 coef    std err          t      P>|t|      [0.025      0.975]\n",
       "------------------------------------------------------------------------------\n",
       "Intercept     29.6923      1.397     21.251      0.000      26.945      32.439\n",
       "STATE         -3.3683      1.558     -2.162      0.031      -6.431      -0.306\n",
       "==============================================================================\n",
       "Omnibus:                      124.338   Durbin-Watson:                   1.751\n",
       "Prob(Omnibus):                  0.000   Jarque-Bera (JB):              434.665\n",
       "Skew:                           1.379   Prob(JB):                     4.11e-95\n",
       "Kurtosis:                       7.306   Cond. No.                         4.32\n",
       "==============================================================================\n",
       "\n",
       "Notes:\n",
       "[1] Standard Errors assume that the covariance matrix of the errors is correctly specified.\n",
       "\"\"\""
      ]
     },
     "execution_count": 27,
     "metadata": {},
     "output_type": "execute_result"
    }
   ],
   "source": [
    "m = smf.ols(\"EMP ~ STATE\", data = pre).fit()\n",
    "m.summary()"
   ]
  },
  {
   "cell_type": "code",
   "execution_count": null,
   "metadata": {},
   "outputs": [],
   "source": [
    "# YOUR CODE HERE"
   ]
  },
  {
   "cell_type": "markdown",
   "metadata": {},
   "source": [
    "### 4. Multivariate Regression\n",
    "\n",
    "Let's extend our analysis to include more explanatory variables. \n",
    "\n",
    " - Run a regression where the outcome / dependent variable is the number of employees (EMP), while the RHS / independent variables are the number of hours open (HRSOPEN), whether or not employees get a bonus (BONUS), and the region (REGION).\n",
    " - Think carefully about how you would handle the categorical variable REGION. The [statsmodels documentation](https://www.statsmodels.org/dev/examples/notebooks/generated/formulas.html#Categorical-variables) will be useful. \n",
    " - Pair up with a classmate seated near near you. Discuss your results, and the interpretations for each of the coefficients. "
   ]
  },
  {
   "cell_type": "code",
   "execution_count": 2,
   "metadata": {},
   "outputs": [],
   "source": [
    "# YOUR CODE HERE"
   ]
  },
  {
   "cell_type": "markdown",
   "metadata": {},
   "source": [
    "### 5. Dummy variables / One-hot encoding\n",
    "\n",
    "You'll encounter one-hot encoding at various points throughout your journey learning / using machine learning, so no time like the present to get in some practice!\n",
    "\n",
    "For this exercise, focus on the categorical variable CHAIN, which describes the type restaurant (Chain restaurant code: 1 = Burger King, 2 = KFC, 3 = Roy's, 4 = Wendy's) \n",
    "\n",
    "**To do**\n",
    "\n",
    "1. Implement one-hot encoding / generate a set of dummy variables for each category in the variable CHAIN. One way to implement this involves using the pandas [*get_dummies()*](https://pandas.pydata.org/docs/reference/api/pandas.get_dummies.html) function. \n",
    "2. Run a regression where the independent variable is the number of employees (EMP), while the indepent variables are the one-hot encoded / dummy variables created in step 1 above. Ensure that you drop at least one of the dummy variables. \n",
    "3. Now, run a regression where the independent variable is the number of employees (EMP), while the indepent variables are the one-hot encoded / dummy variables created in step 1 above. This time, include all the dummy variables, but drop the constant. \n",
    "\n",
    "Pair up with a classmate seated near you. Discuss:\n",
    "\n",
    "- Why is it important to drop one of the dummy variables in 2? What happens if you do not do this?\n",
    "- Compare your results in 2 and 3:\n",
    "    - What is the interpretation of the intercept term in 2?\n",
    "    - How does the interpretation of the coefficients in 3 differ, relative to the interpretation of the coefficients in 2? \n",
    "\n"
   ]
  },
  {
   "cell_type": "code",
   "execution_count": null,
   "metadata": {},
   "outputs": [],
   "source": [
    "## YOUR CODE HERE"
   ]
  },
  {
   "cell_type": "code",
   "execution_count": null,
   "metadata": {},
   "outputs": [],
   "source": []
  },
  {
   "cell_type": "markdown",
   "metadata": {},
   "source": [
    "## FOR NEXT WEEK"
   ]
  },
  {
   "cell_type": "markdown",
   "metadata": {},
   "source": [
    "### 6. Differences-in-differences"
   ]
  },
  {
   "cell_type": "markdown",
   "metadata": {},
   "source": [
    "\n",
    "Use a differences-in-differences regression specification to estimate the impact of the increase in the minimum wage in New Jersey (state == 1) between the pre- and the post-period (period==1). \n",
    "\n",
    "Remember the diff-in-diff regression specification: Y = B0 + B1 * Time + B2 * Intervention + B3*(Time*Intervention)"
   ]
  },
  {
   "cell_type": "code",
   "execution_count": null,
   "metadata": {},
   "outputs": [],
   "source": []
  },
  {
   "cell_type": "markdown",
   "metadata": {},
   "source": [
    "**QUESTION**: Interpret the regression coefficients in terms of the impact of the minimum wage change on employment.\n",
    "\n",
    "**QUESTION**: Why might you want to add control variables to this regression?"
   ]
  },
  {
   "cell_type": "code",
   "execution_count": null,
   "metadata": {},
   "outputs": [],
   "source": []
  },
  {
   "cell_type": "markdown",
   "metadata": {},
   "source": [
    "### 7. Interaction Terms"
   ]
  },
  {
   "cell_type": "markdown",
   "metadata": {},
   "source": [
    "An interaction term captures the notion that the value of a variable is influenced by the value of another variables. "
   ]
  },
  {
   "cell_type": "code",
   "execution_count": null,
   "metadata": {},
   "outputs": [],
   "source": [
    "model1 = smf.ols(formula='EMP ~ HRSOPEN + BONUS + HRSOPEN * BONUS ', data=pre).fit()\n",
    "print(model1.summary())"
   ]
  },
  {
   "cell_type": "markdown",
   "metadata": {},
   "source": [
    "**QUESTION**: Interpret the coefficients"
   ]
  },
  {
   "cell_type": "markdown",
   "metadata": {},
   "source": [
    "**QUESTION**: Create a plot which demonstrates how the variable BONUS influences the value of HRSOPEN"
   ]
  },
  {
   "cell_type": "markdown",
   "metadata": {},
   "source": [
    "### 8: Fixed Effects Intuition"
   ]
  },
  {
   "cell_type": "markdown",
   "metadata": {},
   "source": [
    "Let's create a toy dataset for this example, with these variables:\n",
    "\n",
    "    - city: New York, Chicago, San Francisco, Washington D.C\n",
    "    - year: 2020, 2021, 2022, 2023, 2024\n",
    "    - quantity: the amount purchased (of some arbitrary good)\n",
    "    - price: the cost of the arbitrary good, varying by year and city. \n",
    "   "
   ]
  },
  {
   "cell_type": "code",
   "execution_count": 63,
   "metadata": {},
   "outputs": [],
   "source": [
    "\n",
    "df_panel = pd.DataFrame({\n",
    "    \"quantity\": [25, 24.3, 23, 20,\n",
    "                 15, 13.8, 12.5, 13,\n",
    "                 20, 19, 18, 19,\n",
    "                 22, 19.5, 19, 19,\n",
    "                ],\n",
    "    \"price\": [5.0, 5.34, 5.47, 5.51, \n",
    "              4.01, 4.35, 4.43, 4.43, \n",
    "              4.50, 4.62, 4.70, 4.89, \n",
    "             4.80, 4.90, 4.95, 5.25\n",
    "             ],\n",
    "    \"year\":[2020, 2021, 2022, 2023]*4,\n",
    "    \"city\":  ['New York']*4 +  \n",
    "             [\"Chicago\"]*4 + \n",
    "             [\"San Francisco\"]*4 + \n",
    "             [\"Washington D.C.\"]*4\n",
    "})\n"
   ]
  },
  {
   "cell_type": "markdown",
   "metadata": {},
   "source": [
    "Let's explore a cross-section of this data, say in the year 2022.  "
   ]
  },
  {
   "cell_type": "code",
   "execution_count": 64,
   "metadata": {},
   "outputs": [
    {
     "data": {
      "text/html": [
       "<div>\n",
       "<style scoped>\n",
       "    .dataframe tbody tr th:only-of-type {\n",
       "        vertical-align: middle;\n",
       "    }\n",
       "\n",
       "    .dataframe tbody tr th {\n",
       "        vertical-align: top;\n",
       "    }\n",
       "\n",
       "    .dataframe thead th {\n",
       "        text-align: right;\n",
       "    }\n",
       "</style>\n",
       "<table border=\"1\" class=\"dataframe\">\n",
       "  <thead>\n",
       "    <tr style=\"text-align: right;\">\n",
       "      <th></th>\n",
       "      <th>quantity</th>\n",
       "      <th>price</th>\n",
       "      <th>year</th>\n",
       "      <th>city</th>\n",
       "    </tr>\n",
       "  </thead>\n",
       "  <tbody>\n",
       "    <tr>\n",
       "      <th>2</th>\n",
       "      <td>23.0</td>\n",
       "      <td>5.47</td>\n",
       "      <td>2022</td>\n",
       "      <td>New York</td>\n",
       "    </tr>\n",
       "    <tr>\n",
       "      <th>6</th>\n",
       "      <td>12.5</td>\n",
       "      <td>4.43</td>\n",
       "      <td>2022</td>\n",
       "      <td>Chicago</td>\n",
       "    </tr>\n",
       "    <tr>\n",
       "      <th>10</th>\n",
       "      <td>18.0</td>\n",
       "      <td>4.70</td>\n",
       "      <td>2022</td>\n",
       "      <td>San Francisco</td>\n",
       "    </tr>\n",
       "    <tr>\n",
       "      <th>14</th>\n",
       "      <td>19.0</td>\n",
       "      <td>4.95</td>\n",
       "      <td>2022</td>\n",
       "      <td>Washington D.C.</td>\n",
       "    </tr>\n",
       "  </tbody>\n",
       "</table>\n",
       "</div>"
      ],
      "text/plain": [
       "    quantity  price  year             city\n",
       "2       23.0   5.47  2022         New York\n",
       "6       12.5   4.43  2022          Chicago\n",
       "10      18.0   4.70  2022    San Francisco\n",
       "14      19.0   4.95  2022  Washington D.C."
      ]
     },
     "execution_count": 64,
     "metadata": {},
     "output_type": "execute_result"
    }
   ],
   "source": [
    "### View the data\n",
    "\n",
    "df_panel[df_panel['year'] == 2022]"
   ]
  },
  {
   "cell_type": "markdown",
   "metadata": {},
   "source": [
    "Simply looking over this data, it actually appears the quantity purchased appears to increase along with prices. Does that make sense?. \n",
    "\n",
    "What might explain this? On the one hand, perhaps the quality of the good is higher in certain cities. For example, if the **good** in question is a bagel, perhaps the best bagels are found in New York (ahem, Boichik)? Alternatively, there might simply be a high demand for bagels in New York, thus explaining the high prices. \n",
    "\n",
    "But simply put, we can't say much about the role of price here -- since we do not have data for quality, or bagel obsession.. Running a regression to further examine the relationship between quantity and price is likely to thus suffer from omitted variable bias.\n",
    "\n",
    "To hammer home this point, let's explore the relationship between quantity and price using a univariate regression, across the entire sample. What do you get?"
   ]
  },
  {
   "cell_type": "code",
   "execution_count": 65,
   "metadata": {},
   "outputs": [
    {
     "data": {
      "image/png": "[encoded data removed]",
      "text/plain": [
       "<Figure size 640x480 with 1 Axes>"
      ]
     },
     "metadata": {},
     "output_type": "display_data"
    }
   ],
   "source": [
    "m = smf.ols(\"quantity ~ price\", data = df_panel).fit()\n",
    "\n",
    "sns.scatterplot(data = df_panel, x=  'price', y = 'quantity', hue = \"city\")\n",
    "plt.plot(df_panel['price'], m.fittedvalues, \"k-\", alpha = 0.5, label=\"Regression Line\")\n",
    "plt.xlabel(\"Price\")\n",
    "plt.ylabel(\"Quantity\")\n",
    "sns.despine()\n",
    "plt.show()"
   ]
  },
  {
   "cell_type": "markdown",
   "metadata": {},
   "source": [
    "Now, let's examine the full dataset. "
   ]
  },
  {
   "cell_type": "code",
   "execution_count": 66,
   "metadata": {},
   "outputs": [
    {
     "data": {
      "text/html": [
       "<div>\n",
       "<style scoped>\n",
       "    .dataframe tbody tr th:only-of-type {\n",
       "        vertical-align: middle;\n",
       "    }\n",
       "\n",
       "    .dataframe tbody tr th {\n",
       "        vertical-align: top;\n",
       "    }\n",
       "\n",
       "    .dataframe thead th {\n",
       "        text-align: right;\n",
       "    }\n",
       "</style>\n",
       "<table border=\"1\" class=\"dataframe\">\n",
       "  <thead>\n",
       "    <tr style=\"text-align: right;\">\n",
       "      <th></th>\n",
       "      <th>quantity</th>\n",
       "      <th>price</th>\n",
       "      <th>year</th>\n",
       "      <th>city</th>\n",
       "    </tr>\n",
       "  </thead>\n",
       "  <tbody>\n",
       "    <tr>\n",
       "      <th>0</th>\n",
       "      <td>25.0</td>\n",
       "      <td>5.00</td>\n",
       "      <td>2020</td>\n",
       "      <td>New York</td>\n",
       "    </tr>\n",
       "    <tr>\n",
       "      <th>1</th>\n",
       "      <td>24.3</td>\n",
       "      <td>5.34</td>\n",
       "      <td>2021</td>\n",
       "      <td>New York</td>\n",
       "    </tr>\n",
       "    <tr>\n",
       "      <th>2</th>\n",
       "      <td>23.0</td>\n",
       "      <td>5.47</td>\n",
       "      <td>2022</td>\n",
       "      <td>New York</td>\n",
       "    </tr>\n",
       "    <tr>\n",
       "      <th>3</th>\n",
       "      <td>20.0</td>\n",
       "      <td>5.51</td>\n",
       "      <td>2023</td>\n",
       "      <td>New York</td>\n",
       "    </tr>\n",
       "    <tr>\n",
       "      <th>4</th>\n",
       "      <td>15.0</td>\n",
       "      <td>4.01</td>\n",
       "      <td>2020</td>\n",
       "      <td>Chicago</td>\n",
       "    </tr>\n",
       "    <tr>\n",
       "      <th>5</th>\n",
       "      <td>13.8</td>\n",
       "      <td>4.35</td>\n",
       "      <td>2021</td>\n",
       "      <td>Chicago</td>\n",
       "    </tr>\n",
       "    <tr>\n",
       "      <th>6</th>\n",
       "      <td>12.5</td>\n",
       "      <td>4.43</td>\n",
       "      <td>2022</td>\n",
       "      <td>Chicago</td>\n",
       "    </tr>\n",
       "    <tr>\n",
       "      <th>7</th>\n",
       "      <td>13.0</td>\n",
       "      <td>4.43</td>\n",
       "      <td>2023</td>\n",
       "      <td>Chicago</td>\n",
       "    </tr>\n",
       "    <tr>\n",
       "      <th>8</th>\n",
       "      <td>20.0</td>\n",
       "      <td>4.50</td>\n",
       "      <td>2020</td>\n",
       "      <td>San Francisco</td>\n",
       "    </tr>\n",
       "    <tr>\n",
       "      <th>9</th>\n",
       "      <td>19.0</td>\n",
       "      <td>4.62</td>\n",
       "      <td>2021</td>\n",
       "      <td>San Francisco</td>\n",
       "    </tr>\n",
       "    <tr>\n",
       "      <th>10</th>\n",
       "      <td>18.0</td>\n",
       "      <td>4.70</td>\n",
       "      <td>2022</td>\n",
       "      <td>San Francisco</td>\n",
       "    </tr>\n",
       "    <tr>\n",
       "      <th>11</th>\n",
       "      <td>19.0</td>\n",
       "      <td>4.89</td>\n",
       "      <td>2023</td>\n",
       "      <td>San Francisco</td>\n",
       "    </tr>\n",
       "    <tr>\n",
       "      <th>12</th>\n",
       "      <td>22.0</td>\n",
       "      <td>4.80</td>\n",
       "      <td>2020</td>\n",
       "      <td>Washington D.C.</td>\n",
       "    </tr>\n",
       "    <tr>\n",
       "      <th>13</th>\n",
       "      <td>19.5</td>\n",
       "      <td>4.90</td>\n",
       "      <td>2021</td>\n",
       "      <td>Washington D.C.</td>\n",
       "    </tr>\n",
       "    <tr>\n",
       "      <th>14</th>\n",
       "      <td>19.0</td>\n",
       "      <td>4.95</td>\n",
       "      <td>2022</td>\n",
       "      <td>Washington D.C.</td>\n",
       "    </tr>\n",
       "    <tr>\n",
       "      <th>15</th>\n",
       "      <td>19.0</td>\n",
       "      <td>5.25</td>\n",
       "      <td>2023</td>\n",
       "      <td>Washington D.C.</td>\n",
       "    </tr>\n",
       "  </tbody>\n",
       "</table>\n",
       "</div>"
      ],
      "text/plain": [
       "    quantity  price  year             city\n",
       "0       25.0   5.00  2020         New York\n",
       "1       24.3   5.34  2021         New York\n",
       "2       23.0   5.47  2022         New York\n",
       "3       20.0   5.51  2023         New York\n",
       "4       15.0   4.01  2020          Chicago\n",
       "5       13.8   4.35  2021          Chicago\n",
       "6       12.5   4.43  2022          Chicago\n",
       "7       13.0   4.43  2023          Chicago\n",
       "8       20.0   4.50  2020    San Francisco\n",
       "9       19.0   4.62  2021    San Francisco\n",
       "10      18.0   4.70  2022    San Francisco\n",
       "11      19.0   4.89  2023    San Francisco\n",
       "12      22.0   4.80  2020  Washington D.C.\n",
       "13      19.5   4.90  2021  Washington D.C.\n",
       "14      19.0   4.95  2022  Washington D.C.\n",
       "15      19.0   5.25  2023  Washington D.C."
      ]
     },
     "execution_count": 66,
     "metadata": {},
     "output_type": "execute_result"
    }
   ],
   "source": [
    "df_panel"
   ]
  },
  {
   "cell_type": "markdown",
   "metadata": {},
   "source": [
    "We see that as price increases, the quantity purchased decreases **within** each city. This is reasonable, as we would expect the demand to fall as price increases.\n",
    "\n",
    "This provides the underlying intuition for fixed effects. In the cross-section we saw earlier, a regression that primarily relied on variation across cities is problematic, due to omitted variables bias. The solution is to focus on **within** city variation, relying on the panel structure of the data to remove the effect of omitted variable bias.\n",
    "\n",
    "We still have to make a key assumption here, however. What is it?"
   ]
  },
  {
   "cell_type": "markdown",
   "metadata": {},
   "source": []
  },
  {
   "cell_type": "markdown",
   "metadata": {},
   "source": [
    "Now, let's examine a simple fixed effects model, where we eliminate the unobserved variation across cities, and focus only on within city variation. A simple way to achieve this, as you saw in lecture, is to add a dummy variable for each city. So let's go ahead and try that below. "
   ]
  },
  {
   "cell_type": "code",
   "execution_count": 67,
   "metadata": {},
   "outputs": [
    {
     "data": {
      "image/png": "[encoded data removed]",
      "text/plain": [
       "<Figure size 640x480 with 1 Axes>"
      ]
     },
     "metadata": {},
     "output_type": "display_data"
    }
   ],
   "source": [
    "#C() is used to tell statsmodels that the variable in question is a categorical/ factor variable\n",
    "fe = smf.ols(\"quantity ~ price + C(city)\", data=df_panel).fit()  \n",
    "\n",
    "df_panel['y_hat'] = fe.fittedvalues\n",
    "\n",
    "sns.scatterplot(data = df_panel, x = 'price', y = 'quantity', hue = 'city')\n",
    "for city in df_panel[\"city\"].unique():\n",
    "    plt_df = df_panel[df_panel[\"city\"] == city]\n",
    "    plt.plot(plt_df['price'], plt_df['y_hat'], \"k-\", alpha = 0.5)\n",
    "\n",
    "plt.title(\"Fixed Effect Model\")\n",
    "plt.xlabel(\"Quantity\")\n",
    "plt.ylabel(\"Price\")\n",
    "plt.legend(loc = \"best\")\n",
    "sns.despine()\n",
    "plt.show()"
   ]
  },
  {
   "cell_type": "markdown",
   "metadata": {},
   "source": [
    "Notice that we are effectively fitting one regression line per city. This is what the ''city'' fixed effect does -- it controls for the average (time invariant) differences across cities (in observable/ unobservable variables). "
   ]
  },
  {
   "cell_type": "code",
   "execution_count": null,
   "metadata": {},
   "outputs": [],
   "source": []
  }
 ],
 "metadata": {
  "kernelspec": {
   "display_name": "Python 3 (ipykernel)",
   "language": "python",
   "name": "python3"
  },
  "language_info": {
   "codemirror_mode": {
    "name": "ipython",
    "version": 3
   },
   "file_extension": ".py",
   "mimetype": "text/x-python",
   "name": "python",
   "nbconvert_exporter": "python",
   "pygments_lexer": "ipython3",
   "version": "3.10.12"
  }
 },
 "nbformat": 4,
 "nbformat_minor": 1
}
