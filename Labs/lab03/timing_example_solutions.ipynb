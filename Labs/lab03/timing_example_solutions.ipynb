{
 "cells": [
  {
   "cell_type": "markdown",
   "metadata": {},
   "source": [
    "# timing comparisons - looping versus vectors"
   ]
  },
  {
   "cell_type": "code",
   "execution_count": 7,
   "metadata": {},
   "outputs": [],
   "source": [
    "import numpy as np \n",
    "import time"
   ]
  },
  {
   "cell_type": "code",
   "execution_count": 8,
   "metadata": {},
   "outputs": [],
   "source": [
    "# multiplies a random n x n matrix and a random n x 1 matrix \"runs\" times, using the specified method, and returns the average run time\n",
    "\n",
    "def time_multiplication(multiplication_implementation, n = 1_000, runs = 1_000):\n",
    "    np.random.seed(0)\n",
    "    timings = []\n",
    "    for _ in range(runs):\n",
    "        X = np.random.normal(size = (n, n))\n",
    "        y = np.random.normal(size = (n, 1)) # size could also be specified as `n` or `(n,)`\n",
    "        start = time.time()\n",
    "        output = multiplication_implementation(X, y)                \n",
    "        elapsed = time.time() - start\n",
    "        timings.append(elapsed)\n",
    "    return np.average(timings)"
   ]
  },
  {
   "cell_type": "markdown",
   "metadata": {},
   "source": [
    "## let's first implement matrix-vector multiplication with for loops\n",
    "\n",
    "Express $X$ as a a number of row vectors stacked vertically:\n",
    "\n",
    "$$ X = \\begin{bmatrix} & \\mathbf{x}_1 & \\\\ & \\mathbf{x}_2 & \\\\ & \\vdots & \\\\ & \\mathbf{x}_n & \\end{bmatrix} $$\n",
    "\n",
    "If $\\mathbf{z}$ is the product of $X$ and a vector $\\mathbf{y}$ (i.e. $\\mathbf{z} = X\\mathbf{y}$), then the $i$-th component of $z$ is the dot product between $\\mathbf{x}_i$ and $\\mathbf{y}$: \n",
    "\n",
    "$$ z_i = \\mathbf{x}_i \\cdot \\mathbf{y} = \\sum_{j = 1}^{n} X_{ij} * y_j $$\n",
    "\n",
    "As a test case for our implementation, let's consider \n",
    "\n",
    "$$ X = \\begin{bmatrix} 1 & 2 \\\\ 3 & 4 \\end{bmatrix} \\hspace{10pt}\\text{ and }\\hspace{10pt} \\mathbf{y} = \\begin{bmatrix} -2 \\\\ 1 \\end{bmatrix}$$\n",
    "\n",
    "$$ \\mathbf{z} = X\\mathbf{y} = \\begin{bmatrix} (1)(-2) + (2)(1) \\\\ (3)(-2) + (4)(1) \\end{bmatrix} = \\begin{bmatrix} 0 \\\\ -2\\end{bmatrix}"
   ]
  },
  {
   "cell_type": "code",
   "execution_count": 9,
   "metadata": {},
   "outputs": [
    {
     "name": "stdout",
     "output_type": "stream",
     "text": [
      "[[ 0]\n",
      " [-2]]\n"
     ]
    }
   ],
   "source": [
    "# test case\n",
    "X_test = np.array([\n",
    "    [1, 2],\n",
    "    [3, 4]\n",
    "])\n",
    "\n",
    "y_test = np.array([\n",
    "    [-2], \n",
    "    [1]\n",
    "])\n",
    "\n",
    "def multiplication_loop(X, y):\n",
    "    \"\"\" implements matrix-vector multiplication through looping \"\"\"\n",
    "    z = np.zeros_like(y)\n",
    "    for i in range(X.shape[0]):\n",
    "        vector_sum = 0\n",
    "        for j in range(X.shape[1]):\n",
    "            vector_sum += X[i, j] * y[j]\n",
    "        z[j] = vector_sum\n",
    "    return z \n",
    "\n",
    "print(multiplication_loop(X_test, y_test))"
   ]
  },
  {
   "cell_type": "code",
   "execution_count": 11,
   "metadata": {},
   "outputs": [
    {
     "name": "stdout",
     "output_type": "stream",
     "text": [
      "Multipling a matrix of size 100x100 by a vector of size 100, using a for-loop, 1000 times.\n",
      "Average time taken: 0.012373 s.\n"
     ]
    }
   ],
   "source": [
    "n = 100\n",
    "runs = 1000\n",
    "print(f\"Multipling a matrix of size {n}x{n} by a vector of size {n}, using a for-loop, {runs} times.\")\n",
    "multiplication_loop_average_time = time_multiplication(multiplication_loop, n, runs)\n",
    "print(f\"Average time taken: {multiplication_loop_average_time:2f} s.\")"
   ]
  },
  {
   "cell_type": "code",
   "execution_count": 12,
   "metadata": {},
   "outputs": [
    {
     "name": "stdout",
     "output_type": "stream",
     "text": [
      "Multipling a matrix of size 100x100 by a vector of size 100, using a vectorized implementation, 1000 times.\n",
      "Average time taken: 0.000433 s.\n"
     ]
    }
   ],
   "source": [
    "n = 100\n",
    "runs = 1000\n",
    "print(f\"Multipling a matrix of size {n}x{n} by a vector of size {n}, using a vectorized implementation, {runs} times.\")\n",
    "multiplication_loop_average_time = time_multiplication(np.matmul, n, runs)\n",
    "print(f\"Average time taken: {multiplication_loop_average_time:2f} s.\")"
   ]
  }
 ],
 "metadata": {
  "kernelspec": {
   "display_name": "Python 3",
   "language": "python",
   "name": "python3"
  },
  "language_info": {
   "codemirror_mode": {
    "name": "ipython",
    "version": 3
   },
   "file_extension": ".py",
   "mimetype": "text/x-python",
   "name": "python",
   "nbconvert_exporter": "python",
   "pygments_lexer": "ipython3",
   "version": "3.12.0"
  }
 },
 "nbformat": 4,
 "nbformat_minor": 2
}
